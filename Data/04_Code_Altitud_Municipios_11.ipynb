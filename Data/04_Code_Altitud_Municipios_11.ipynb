{
 "cells": [
  {
   "cell_type": "markdown",
   "id": "c9146a57",
   "metadata": {},
   "source": [
    "## Altitud municipios\n",
    "\n",
    "En este notebook procesaremos el archivo 03_Input_Densidad_Poblacion_11_21.xlsx para extraer la variable altitud de los municipios.  \n",
    "Obtendremos un DataFrame con la siguiente información:\n",
    "- Codigo Municipio\n",
    "- Altitud Municipios"
   ]
  },
  {
   "cell_type": "code",
   "execution_count": 1,
   "id": "e475dd9a",
   "metadata": {},
   "outputs": [],
   "source": [
    "import pandas as pd"
   ]
  },
  {
   "cell_type": "code",
   "execution_count": 2,
   "id": "dd40bef9",
   "metadata": {},
   "outputs": [
    {
     "data": {
      "text/html": [
       "<div>\n",
       "<style scoped>\n",
       "    .dataframe tbody tr th:only-of-type {\n",
       "        vertical-align: middle;\n",
       "    }\n",
       "\n",
       "    .dataframe tbody tr th {\n",
       "        vertical-align: top;\n",
       "    }\n",
       "\n",
       "    .dataframe thead th {\n",
       "        text-align: right;\n",
       "    }\n",
       "</style>\n",
       "<table border=\"1\" class=\"dataframe\">\n",
       "  <thead>\n",
       "    <tr style=\"text-align: right;\">\n",
       "      <th></th>\n",
       "      <th>ID_REL</th>\n",
       "      <th>ALTITUD</th>\n",
       "    </tr>\n",
       "  </thead>\n",
       "  <tbody>\n",
       "    <tr>\n",
       "      <th>0</th>\n",
       "      <td>01001</td>\n",
       "      <td>568.0</td>\n",
       "    </tr>\n",
       "    <tr>\n",
       "      <th>1</th>\n",
       "      <td>01002</td>\n",
       "      <td>219.0</td>\n",
       "    </tr>\n",
       "    <tr>\n",
       "      <th>2</th>\n",
       "      <td>01003</td>\n",
       "      <td>333.0</td>\n",
       "    </tr>\n",
       "    <tr>\n",
       "      <th>3</th>\n",
       "      <td>01004</td>\n",
       "      <td>210.0</td>\n",
       "    </tr>\n",
       "    <tr>\n",
       "      <th>4</th>\n",
       "      <td>01006</td>\n",
       "      <td>467.0</td>\n",
       "    </tr>\n",
       "  </tbody>\n",
       "</table>\n",
       "</div>"
      ],
      "text/plain": [
       "  ID_REL  ALTITUD\n",
       "0  01001    568.0\n",
       "1  01002    219.0\n",
       "2  01003    333.0\n",
       "3  01004    210.0\n",
       "4  01006    467.0"
      ]
     },
     "execution_count": 2,
     "metadata": {},
     "output_type": "execute_result"
    }
   ],
   "source": [
    "AltitudMunicipios = pd.read_excel('03_Input_Densidad_Poblacion_11_21.xlsx', \n",
    "                                  dtype={'ID_REL' : str}, \n",
    "                                  usecols=('ID_REL','ALTITUD'))\n",
    "AltitudMunicipios.head()"
   ]
  },
  {
   "cell_type": "code",
   "execution_count": 3,
   "id": "28f09619",
   "metadata": {},
   "outputs": [],
   "source": [
    "AltitudMunicipios.rename({'ID_REL': 'Codigo Municipio',\n",
    "                           'ALTITUD' : 'Altitud Municipios'}, axis=1, inplace=True)"
   ]
  },
  {
   "cell_type": "code",
   "execution_count": 4,
   "id": "0d9925f9",
   "metadata": {},
   "outputs": [],
   "source": [
    "AltitudMunicipios.to_csv('04_Output_Altitud_Municipios_11.csv', header = True, index = False)"
   ]
  }
 ],
 "metadata": {
  "kernelspec": {
   "display_name": "Python 3 (ipykernel)",
   "language": "python",
   "name": "python3"
  },
  "language_info": {
   "codemirror_mode": {
    "name": "ipython",
    "version": 3
   },
   "file_extension": ".py",
   "mimetype": "text/x-python",
   "name": "python",
   "nbconvert_exporter": "python",
   "pygments_lexer": "ipython3",
   "version": "3.8.11"
  }
 },
 "nbformat": 4,
 "nbformat_minor": 5
}
