{
 "cells": [
  {
   "cell_type": "markdown",
   "id": "78a4c4f5",
   "metadata": {},
   "source": [
    "## Número de alquileres 2011\n",
    "En este notebook procesaremos un .xlsx con el número de viviendas en régime de alquiler desagregado por municipios. \n",
    "\n",
    "Obtendremos un DataFrame con la siguiente información:\n",
    "- Codigo Municipio\n",
    "- Nº de Alquileres"
   ]
  },
  {
   "cell_type": "code",
   "execution_count": 1,
   "id": "80004462",
   "metadata": {},
   "outputs": [],
   "source": [
    "import pandas as pd"
   ]
  },
  {
   "cell_type": "code",
   "execution_count": 2,
   "id": "31630814",
   "metadata": {},
   "outputs": [
    {
     "data": {
      "text/html": [
       "<div>\n",
       "<style scoped>\n",
       "    .dataframe tbody tr th:only-of-type {\n",
       "        vertical-align: middle;\n",
       "    }\n",
       "\n",
       "    .dataframe tbody tr th {\n",
       "        vertical-align: top;\n",
       "    }\n",
       "\n",
       "    .dataframe thead th {\n",
       "        text-align: right;\n",
       "    }\n",
       "</style>\n",
       "<table border=\"1\" class=\"dataframe\">\n",
       "  <thead>\n",
       "    <tr style=\"text-align: right;\">\n",
       "      <th></th>\n",
       "      <th>Municipio de residencia</th>\n",
       "      <th>Alquilada</th>\n",
       "    </tr>\n",
       "  </thead>\n",
       "  <tbody>\n",
       "    <tr>\n",
       "      <th>0</th>\n",
       "      <td>44001 Ababuj</td>\n",
       "      <td>*</td>\n",
       "    </tr>\n",
       "    <tr>\n",
       "      <th>1</th>\n",
       "      <td>40001 Abades</td>\n",
       "      <td>65</td>\n",
       "    </tr>\n",
       "    <tr>\n",
       "      <th>2</th>\n",
       "      <td>10001 Abadía</td>\n",
       "      <td>65</td>\n",
       "    </tr>\n",
       "    <tr>\n",
       "      <th>3</th>\n",
       "      <td>27001 Abadín</td>\n",
       "      <td>45</td>\n",
       "    </tr>\n",
       "    <tr>\n",
       "      <th>4</th>\n",
       "      <td>48001 Abadiño</td>\n",
       "      <td>335</td>\n",
       "    </tr>\n",
       "  </tbody>\n",
       "</table>\n",
       "</div>"
      ],
      "text/plain": [
       "  Municipio de residencia Alquilada\n",
       "0            44001 Ababuj         *\n",
       "1            40001 Abades        65\n",
       "2            10001 Abadía        65\n",
       "3            27001 Abadín        45\n",
       "4           48001 Abadiño       335"
      ]
     },
     "execution_count": 2,
     "metadata": {},
     "output_type": "execute_result"
    }
   ],
   "source": [
    "Alquileres11 = pd.read_excel('24_Input_Alquileres_11.xlsx', usecols = ['Municipio de residencia',\n",
    "                                                                      'Alquilada'], \n",
    "                             dtype={'Municipio de residencia' : str})\n",
    "Alquileres11.head()"
   ]
  },
  {
   "cell_type": "markdown",
   "id": "3f80cd5c",
   "metadata": {},
   "source": [
    "Añadimos el campo Código Municipio al DataFrame asignando el valor de cada fila en función del código que aparece en el campo municipio de residencia.  \n",
    "Para ello usamos la tabla 01_Output_ProvMun_11.csv que contiene los códigos por municipio:"
   ]
  },
  {
   "cell_type": "code",
   "execution_count": 3,
   "id": "4bdda147",
   "metadata": {},
   "outputs": [
    {
     "data": {
      "text/html": [
       "<div>\n",
       "<style scoped>\n",
       "    .dataframe tbody tr th:only-of-type {\n",
       "        vertical-align: middle;\n",
       "    }\n",
       "\n",
       "    .dataframe tbody tr th {\n",
       "        vertical-align: top;\n",
       "    }\n",
       "\n",
       "    .dataframe thead th {\n",
       "        text-align: right;\n",
       "    }\n",
       "</style>\n",
       "<table border=\"1\" class=\"dataframe\">\n",
       "  <thead>\n",
       "    <tr style=\"text-align: right;\">\n",
       "      <th></th>\n",
       "      <th>Nombre CCAA</th>\n",
       "      <th>Codigo CCAA</th>\n",
       "      <th>Nombre Provincia</th>\n",
       "      <th>Codigo Provincia</th>\n",
       "      <th>Nombre Municipio</th>\n",
       "      <th>Codigo Municipio</th>\n",
       "    </tr>\n",
       "  </thead>\n",
       "  <tbody>\n",
       "    <tr>\n",
       "      <th>0</th>\n",
       "      <td>Pais Vasco</td>\n",
       "      <td>16</td>\n",
       "      <td>Araba/Álava</td>\n",
       "      <td>01</td>\n",
       "      <td>Alegría-Dulantzi</td>\n",
       "      <td>01001</td>\n",
       "    </tr>\n",
       "    <tr>\n",
       "      <th>1</th>\n",
       "      <td>Pais Vasco</td>\n",
       "      <td>16</td>\n",
       "      <td>Araba/Álava</td>\n",
       "      <td>01</td>\n",
       "      <td>Amurrio</td>\n",
       "      <td>01002</td>\n",
       "    </tr>\n",
       "    <tr>\n",
       "      <th>2</th>\n",
       "      <td>Pais Vasco</td>\n",
       "      <td>16</td>\n",
       "      <td>Araba/Álava</td>\n",
       "      <td>01</td>\n",
       "      <td>Añana</td>\n",
       "      <td>01049</td>\n",
       "    </tr>\n",
       "    <tr>\n",
       "      <th>3</th>\n",
       "      <td>Pais Vasco</td>\n",
       "      <td>16</td>\n",
       "      <td>Araba/Álava</td>\n",
       "      <td>01</td>\n",
       "      <td>Aramaio</td>\n",
       "      <td>01003</td>\n",
       "    </tr>\n",
       "    <tr>\n",
       "      <th>4</th>\n",
       "      <td>Pais Vasco</td>\n",
       "      <td>16</td>\n",
       "      <td>Araba/Álava</td>\n",
       "      <td>01</td>\n",
       "      <td>Armiñón</td>\n",
       "      <td>01006</td>\n",
       "    </tr>\n",
       "  </tbody>\n",
       "</table>\n",
       "</div>"
      ],
      "text/plain": [
       "  Nombre CCAA Codigo CCAA Nombre Provincia Codigo Provincia  Nombre Municipio  \\\n",
       "0  Pais Vasco          16      Araba/Álava               01  Alegría-Dulantzi   \n",
       "1  Pais Vasco          16      Araba/Álava               01           Amurrio   \n",
       "2  Pais Vasco          16      Araba/Álava               01             Añana   \n",
       "3  Pais Vasco          16      Araba/Álava               01           Aramaio   \n",
       "4  Pais Vasco          16      Araba/Álava               01           Armiñón   \n",
       "\n",
       "  Codigo Municipio  \n",
       "0            01001  \n",
       "1            01002  \n",
       "2            01049  \n",
       "3            01003  \n",
       "4            01006  "
      ]
     },
     "execution_count": 3,
     "metadata": {},
     "output_type": "execute_result"
    }
   ],
   "source": [
    "ProvMun = pd.read_csv('01_Output_ProvMun_11.csv', dtype={'Codigo CCAA' : str,\n",
    "                                                         'Codigo Provincia' : str,\n",
    "                                                         'Codigo Municipio' : str}) \n",
    "ProvMun.head()"
   ]
  },
  {
   "cell_type": "code",
   "execution_count": 4,
   "id": "5fd61220",
   "metadata": {},
   "outputs": [],
   "source": [
    "MunList = ProvMun['Codigo Municipio'].tolist()"
   ]
  },
  {
   "cell_type": "code",
   "execution_count": 5,
   "id": "91df8d75",
   "metadata": {},
   "outputs": [],
   "source": [
    "def check_list(x):\n",
    "    for l in MunList:\n",
    "        if l in x:\n",
    "            return l\n",
    "    return ''"
   ]
  },
  {
   "cell_type": "code",
   "execution_count": 6,
   "id": "8fa1fca1",
   "metadata": {},
   "outputs": [
    {
     "data": {
      "text/html": [
       "<div>\n",
       "<style scoped>\n",
       "    .dataframe tbody tr th:only-of-type {\n",
       "        vertical-align: middle;\n",
       "    }\n",
       "\n",
       "    .dataframe tbody tr th {\n",
       "        vertical-align: top;\n",
       "    }\n",
       "\n",
       "    .dataframe thead th {\n",
       "        text-align: right;\n",
       "    }\n",
       "</style>\n",
       "<table border=\"1\" class=\"dataframe\">\n",
       "  <thead>\n",
       "    <tr style=\"text-align: right;\">\n",
       "      <th></th>\n",
       "      <th>Municipio de residencia</th>\n",
       "      <th>Alquilada</th>\n",
       "      <th>Codigo Municipio</th>\n",
       "    </tr>\n",
       "  </thead>\n",
       "  <tbody>\n",
       "    <tr>\n",
       "      <th>0</th>\n",
       "      <td>44001 Ababuj</td>\n",
       "      <td>*</td>\n",
       "      <td>44001</td>\n",
       "    </tr>\n",
       "    <tr>\n",
       "      <th>1</th>\n",
       "      <td>40001 Abades</td>\n",
       "      <td>65</td>\n",
       "      <td>40001</td>\n",
       "    </tr>\n",
       "    <tr>\n",
       "      <th>2</th>\n",
       "      <td>10001 Abadía</td>\n",
       "      <td>65</td>\n",
       "      <td>10001</td>\n",
       "    </tr>\n",
       "    <tr>\n",
       "      <th>3</th>\n",
       "      <td>27001 Abadín</td>\n",
       "      <td>45</td>\n",
       "      <td>27001</td>\n",
       "    </tr>\n",
       "    <tr>\n",
       "      <th>4</th>\n",
       "      <td>48001 Abadiño</td>\n",
       "      <td>335</td>\n",
       "      <td>48001</td>\n",
       "    </tr>\n",
       "  </tbody>\n",
       "</table>\n",
       "</div>"
      ],
      "text/plain": [
       "  Municipio de residencia Alquilada Codigo Municipio\n",
       "0            44001 Ababuj         *            44001\n",
       "1            40001 Abades        65            40001\n",
       "2            10001 Abadía        65            10001\n",
       "3            27001 Abadín        45            27001\n",
       "4           48001 Abadiño       335            48001"
      ]
     },
     "execution_count": 6,
     "metadata": {},
     "output_type": "execute_result"
    }
   ],
   "source": [
    "Alquileres11['Codigo Municipio'] = Alquileres11['Municipio de residencia'].map(lambda x: check_list(x))\n",
    "Alquileres11.head()"
   ]
  },
  {
   "cell_type": "code",
   "execution_count": 7,
   "id": "c2c53706",
   "metadata": {},
   "outputs": [
    {
     "data": {
      "text/html": [
       "<div>\n",
       "<style scoped>\n",
       "    .dataframe tbody tr th:only-of-type {\n",
       "        vertical-align: middle;\n",
       "    }\n",
       "\n",
       "    .dataframe tbody tr th {\n",
       "        vertical-align: top;\n",
       "    }\n",
       "\n",
       "    .dataframe thead th {\n",
       "        text-align: right;\n",
       "    }\n",
       "</style>\n",
       "<table border=\"1\" class=\"dataframe\">\n",
       "  <thead>\n",
       "    <tr style=\"text-align: right;\">\n",
       "      <th></th>\n",
       "      <th>Codigo Municipio</th>\n",
       "      <th>Nº de Alquileres</th>\n",
       "    </tr>\n",
       "  </thead>\n",
       "  <tbody>\n",
       "    <tr>\n",
       "      <th>0</th>\n",
       "      <td>44001</td>\n",
       "      <td>*</td>\n",
       "    </tr>\n",
       "    <tr>\n",
       "      <th>1</th>\n",
       "      <td>40001</td>\n",
       "      <td>65</td>\n",
       "    </tr>\n",
       "    <tr>\n",
       "      <th>2</th>\n",
       "      <td>10001</td>\n",
       "      <td>65</td>\n",
       "    </tr>\n",
       "    <tr>\n",
       "      <th>3</th>\n",
       "      <td>27001</td>\n",
       "      <td>45</td>\n",
       "    </tr>\n",
       "    <tr>\n",
       "      <th>4</th>\n",
       "      <td>48001</td>\n",
       "      <td>335</td>\n",
       "    </tr>\n",
       "  </tbody>\n",
       "</table>\n",
       "</div>"
      ],
      "text/plain": [
       "  Codigo Municipio Nº de Alquileres\n",
       "0            44001                *\n",
       "1            40001               65\n",
       "2            10001               65\n",
       "3            27001               45\n",
       "4            48001              335"
      ]
     },
     "execution_count": 7,
     "metadata": {},
     "output_type": "execute_result"
    }
   ],
   "source": [
    "Alquileres11 = Alquileres11.drop(['Municipio de residencia'], axis = 1)\n",
    "Alquileres11 = Alquileres11.rename({'Alquilada' : 'Nº de Alquileres'}, axis = 1)\n",
    "PrimeraColumna = Alquileres11.pop('Codigo Municipio')\n",
    "Alquileres11.insert(0,'Codigo Municipio', PrimeraColumna)\n",
    "Alquileres11.head()"
   ]
  },
  {
   "cell_type": "code",
   "execution_count": 8,
   "id": "1aad3b17",
   "metadata": {},
   "outputs": [],
   "source": [
    "Alquileres11.to_csv('24_Output_Alquileres_11.csv', header = True, index = False)"
   ]
  }
 ],
 "metadata": {
  "kernelspec": {
   "display_name": "Python 3 (ipykernel)",
   "language": "python",
   "name": "python3"
  },
  "language_info": {
   "codemirror_mode": {
    "name": "ipython",
    "version": 3
   },
   "file_extension": ".py",
   "mimetype": "text/x-python",
   "name": "python",
   "nbconvert_exporter": "python",
   "pygments_lexer": "ipython3",
   "version": "3.8.11"
  }
 },
 "nbformat": 4,
 "nbformat_minor": 5
}
