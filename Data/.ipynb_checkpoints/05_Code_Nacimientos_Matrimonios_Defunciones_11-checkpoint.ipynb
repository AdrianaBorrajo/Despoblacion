{
 "cells": [
  {
   "cell_type": "markdown",
   "id": "cd09d784",
   "metadata": {},
   "source": [
    "## Nacimientos, matrimonios y defunciones 2011\n",
    "\n",
    "En este notebook procesaremos 52 JSON, uno por cada provincia y ciudad autónoma.  \n",
    "Cada uno de ellos contiene el total de nacimientos, matrimonios y defunciones desagregado por municipios en 2011.  \n",
    "Obtendremos un DataFrame con la siguiente información:\n",
    "- Codigo Municipio \n",
    "- Nacimientos\n",
    "- Matrimonios\n",
    "- Defunciones"
   ]
  },
  {
   "cell_type": "code",
   "execution_count": 1,
   "id": "f38c8cab",
   "metadata": {},
   "outputs": [],
   "source": [
    "import pandas as pd\n",
    "import requests"
   ]
  },
  {
   "cell_type": "markdown",
   "id": "e4a90e65",
   "metadata": {},
   "source": [
    "Códigos de cada una de las tablas de las provincias y ciudadas autónomas del INE correspondientes a los datos de 2011:"
   ]
  },
  {
   "cell_type": "code",
   "execution_count": 2,
   "id": "fce3bf7a",
   "metadata": {},
   "outputs": [],
   "source": [
    "CodTablas = list(range(22808, 22859+1))"
   ]
  },
  {
   "cell_type": "code",
   "execution_count": 3,
   "id": "cd9acb44",
   "metadata": {},
   "outputs": [],
   "source": [
    "def ine_request(ine_code):\n",
    "    \n",
    "    path_template = 'https://servicios.ine.es/wstempus/js/es/DATOS_TABLA/{cod_serie}?tip=AM&'\n",
    "    path = path_template.format(cod_serie=ine_code)\n",
    "    json_request = requests.get(path).json()\n",
    "    \n",
    "    return json_request"
   ]
  },
  {
   "cell_type": "code",
   "execution_count": 4,
   "id": "88d68e9a",
   "metadata": {},
   "outputs": [],
   "source": [
    "PobNacList = list()\n",
    "NacList = list()\n",
    "PobMatList = list()\n",
    "MatList = list()\n",
    "PobDefList = list()\n",
    "DefList = list()"
   ]
  },
  {
   "cell_type": "code",
   "execution_count": 5,
   "id": "36435cd1",
   "metadata": {},
   "outputs": [],
   "source": [
    "for codigo in CodTablas:\n",
    "    datos = ine_request(codigo)\n",
    "    for dato in datos: \n",
    "        for i in range(0,len(dato['Data'])):\n",
    "            if 'nacidos vivos por residencia materna' in dato['Nombre']:\n",
    "                PobNacList.append(dato['Nombre'])\n",
    "                NacList.append(dato['Data'][i]['Valor'])\n",
    "            elif 'matrimonios por el lugar en que han fijado residencia' in dato['Nombre']:\n",
    "                PobMatList.append(dato['Nombre'])\n",
    "                MatList.append(dato['Data'][i]['Valor'])\n",
    "            elif 'fallecidos por el lugar de residencia' in dato['Nombre']:\n",
    "                PobDefList.append(dato['Nombre'])\n",
    "                DefList.append(dato['Data'][i]['Valor']) \n",
    "\n",
    "Nacimientos = pd.DataFrame({\n",
    "'Codigo Municipio' : PobNacList,\n",
    "'Nacimientos': NacList\n",
    "})\n",
    "\n",
    "Matrimonios = pd.DataFrame({\n",
    "'Codigo Municipio' : PobMatList,\n",
    "'Matrimonios': MatList\n",
    "})\n",
    "\n",
    "Defunciones = pd.DataFrame({\n",
    "'Codigo Municipio' : PobDefList,\n",
    "'Defunciones': DefList\n",
    "}) \n"
   ]
  },
  {
   "cell_type": "code",
   "execution_count": 6,
   "id": "bbd20459",
   "metadata": {},
   "outputs": [
    {
     "data": {
      "text/html": [
       "<div>\n",
       "<style scoped>\n",
       "    .dataframe tbody tr th:only-of-type {\n",
       "        vertical-align: middle;\n",
       "    }\n",
       "\n",
       "    .dataframe tbody tr th {\n",
       "        vertical-align: top;\n",
       "    }\n",
       "\n",
       "    .dataframe thead th {\n",
       "        text-align: right;\n",
       "    }\n",
       "</style>\n",
       "<table border=\"1\" class=\"dataframe\">\n",
       "  <thead>\n",
       "    <tr style=\"text-align: right;\">\n",
       "      <th></th>\n",
       "      <th>Codigo Municipio</th>\n",
       "      <th>Nacimientos</th>\n",
       "      <th>Matrimonios</th>\n",
       "      <th>Defunciones</th>\n",
       "    </tr>\n",
       "  </thead>\n",
       "  <tbody>\n",
       "    <tr>\n",
       "      <th>0</th>\n",
       "      <td>02001 Abengibre, nacidos vivos por residencia ...</td>\n",
       "      <td>5.0</td>\n",
       "      <td>3.0</td>\n",
       "      <td>19.0</td>\n",
       "    </tr>\n",
       "    <tr>\n",
       "      <th>1</th>\n",
       "      <td>02002 Alatoz, nacidos vivos por residencia mat...</td>\n",
       "      <td>1.0</td>\n",
       "      <td>0.0</td>\n",
       "      <td>5.0</td>\n",
       "    </tr>\n",
       "    <tr>\n",
       "      <th>2</th>\n",
       "      <td>02003 Albacete, nacidos vivos por residencia m...</td>\n",
       "      <td>1957.0</td>\n",
       "      <td>658.0</td>\n",
       "      <td>1156.0</td>\n",
       "    </tr>\n",
       "    <tr>\n",
       "      <th>3</th>\n",
       "      <td>02004 Albatana, nacidos vivos por residencia m...</td>\n",
       "      <td>5.0</td>\n",
       "      <td>3.0</td>\n",
       "      <td>5.0</td>\n",
       "    </tr>\n",
       "    <tr>\n",
       "      <th>4</th>\n",
       "      <td>02005 Alborea, nacidos vivos por residencia ma...</td>\n",
       "      <td>7.0</td>\n",
       "      <td>1.0</td>\n",
       "      <td>15.0</td>\n",
       "    </tr>\n",
       "  </tbody>\n",
       "</table>\n",
       "</div>"
      ],
      "text/plain": [
       "                                    Codigo Municipio  Nacimientos  \\\n",
       "0  02001 Abengibre, nacidos vivos por residencia ...          5.0   \n",
       "1  02002 Alatoz, nacidos vivos por residencia mat...          1.0   \n",
       "2  02003 Albacete, nacidos vivos por residencia m...       1957.0   \n",
       "3  02004 Albatana, nacidos vivos por residencia m...          5.0   \n",
       "4  02005 Alborea, nacidos vivos por residencia ma...          7.0   \n",
       "\n",
       "   Matrimonios  Defunciones  \n",
       "0          3.0         19.0  \n",
       "1          0.0          5.0  \n",
       "2        658.0       1156.0  \n",
       "3          3.0          5.0  \n",
       "4          1.0         15.0  "
      ]
     },
     "execution_count": 6,
     "metadata": {},
     "output_type": "execute_result"
    }
   ],
   "source": [
    "Naci_Matri_Defun11 = pd.concat([Nacimientos, Matrimonios, Defunciones], axis = 1)\n",
    "Naci_Matri_Defun11 = Naci_Matri_Defun11.loc[:, ~Naci_Matri_Defun11.columns.duplicated()]\n",
    "Naci_Matri_Defun11.head()"
   ]
  },
  {
   "cell_type": "markdown",
   "id": "0ebdcc12",
   "metadata": {},
   "source": [
    "Cargamos la tabla 01_Output_ProvMun_11.csv para crear una columna con la variable Codigo Municipio:"
   ]
  },
  {
   "cell_type": "code",
   "execution_count": 7,
   "id": "64ef9ee6",
   "metadata": {},
   "outputs": [
    {
     "data": {
      "text/html": [
       "<div>\n",
       "<style scoped>\n",
       "    .dataframe tbody tr th:only-of-type {\n",
       "        vertical-align: middle;\n",
       "    }\n",
       "\n",
       "    .dataframe tbody tr th {\n",
       "        vertical-align: top;\n",
       "    }\n",
       "\n",
       "    .dataframe thead th {\n",
       "        text-align: right;\n",
       "    }\n",
       "</style>\n",
       "<table border=\"1\" class=\"dataframe\">\n",
       "  <thead>\n",
       "    <tr style=\"text-align: right;\">\n",
       "      <th></th>\n",
       "      <th>Nombre CCAA</th>\n",
       "      <th>Codigo CCAA</th>\n",
       "      <th>Nombre Provincia</th>\n",
       "      <th>Codigo Provincia</th>\n",
       "      <th>Nombre Municipio</th>\n",
       "      <th>Codigo Municipio</th>\n",
       "    </tr>\n",
       "  </thead>\n",
       "  <tbody>\n",
       "    <tr>\n",
       "      <th>0</th>\n",
       "      <td>Pais Vasco</td>\n",
       "      <td>16</td>\n",
       "      <td>Araba/Álava</td>\n",
       "      <td>01</td>\n",
       "      <td>Alegría-Dulantzi</td>\n",
       "      <td>01001</td>\n",
       "    </tr>\n",
       "    <tr>\n",
       "      <th>1</th>\n",
       "      <td>Pais Vasco</td>\n",
       "      <td>16</td>\n",
       "      <td>Araba/Álava</td>\n",
       "      <td>01</td>\n",
       "      <td>Amurrio</td>\n",
       "      <td>01002</td>\n",
       "    </tr>\n",
       "    <tr>\n",
       "      <th>2</th>\n",
       "      <td>Pais Vasco</td>\n",
       "      <td>16</td>\n",
       "      <td>Araba/Álava</td>\n",
       "      <td>01</td>\n",
       "      <td>Añana</td>\n",
       "      <td>01049</td>\n",
       "    </tr>\n",
       "    <tr>\n",
       "      <th>3</th>\n",
       "      <td>Pais Vasco</td>\n",
       "      <td>16</td>\n",
       "      <td>Araba/Álava</td>\n",
       "      <td>01</td>\n",
       "      <td>Aramaio</td>\n",
       "      <td>01003</td>\n",
       "    </tr>\n",
       "    <tr>\n",
       "      <th>4</th>\n",
       "      <td>Pais Vasco</td>\n",
       "      <td>16</td>\n",
       "      <td>Araba/Álava</td>\n",
       "      <td>01</td>\n",
       "      <td>Armiñón</td>\n",
       "      <td>01006</td>\n",
       "    </tr>\n",
       "  </tbody>\n",
       "</table>\n",
       "</div>"
      ],
      "text/plain": [
       "  Nombre CCAA Codigo CCAA Nombre Provincia Codigo Provincia  Nombre Municipio  \\\n",
       "0  Pais Vasco          16      Araba/Álava               01  Alegría-Dulantzi   \n",
       "1  Pais Vasco          16      Araba/Álava               01           Amurrio   \n",
       "2  Pais Vasco          16      Araba/Álava               01             Añana   \n",
       "3  Pais Vasco          16      Araba/Álava               01           Aramaio   \n",
       "4  Pais Vasco          16      Araba/Álava               01           Armiñón   \n",
       "\n",
       "  Codigo Municipio  \n",
       "0            01001  \n",
       "1            01002  \n",
       "2            01049  \n",
       "3            01003  \n",
       "4            01006  "
      ]
     },
     "execution_count": 7,
     "metadata": {},
     "output_type": "execute_result"
    }
   ],
   "source": [
    "ProvMun = pd.read_csv('01_Output_ProvMun_11.csv', dtype={'Codigo CCAA' : str, \n",
    "                                                         'Codigo Provincia' : str, \n",
    "                                                         'Codigo Municipio' : str}) \n",
    "ProvMun.head()"
   ]
  },
  {
   "cell_type": "code",
   "execution_count": 8,
   "id": "2df1ed94",
   "metadata": {},
   "outputs": [],
   "source": [
    "MunList = ProvMun['Codigo Municipio'].tolist()"
   ]
  },
  {
   "cell_type": "code",
   "execution_count": 9,
   "id": "abc6a167",
   "metadata": {},
   "outputs": [],
   "source": [
    "def check_list(x):\n",
    "    for l in MunList:\n",
    "        if l in x:\n",
    "            return l\n",
    "    return ''"
   ]
  },
  {
   "cell_type": "code",
   "execution_count": 10,
   "id": "055398f8",
   "metadata": {},
   "outputs": [],
   "source": [
    "Naci_Matri_Defun11['Codigo Municipio'] = Naci_Matri_Defun11['Codigo Municipio'].map(lambda x: check_list(x))"
   ]
  },
  {
   "cell_type": "code",
   "execution_count": 11,
   "id": "6088f0ec",
   "metadata": {},
   "outputs": [
    {
     "data": {
      "text/html": [
       "<div>\n",
       "<style scoped>\n",
       "    .dataframe tbody tr th:only-of-type {\n",
       "        vertical-align: middle;\n",
       "    }\n",
       "\n",
       "    .dataframe tbody tr th {\n",
       "        vertical-align: top;\n",
       "    }\n",
       "\n",
       "    .dataframe thead th {\n",
       "        text-align: right;\n",
       "    }\n",
       "</style>\n",
       "<table border=\"1\" class=\"dataframe\">\n",
       "  <thead>\n",
       "    <tr style=\"text-align: right;\">\n",
       "      <th></th>\n",
       "      <th>Codigo Municipio</th>\n",
       "      <th>Nacimientos</th>\n",
       "      <th>Matrimonios</th>\n",
       "      <th>Defunciones</th>\n",
       "    </tr>\n",
       "  </thead>\n",
       "  <tbody>\n",
       "    <tr>\n",
       "      <th>0</th>\n",
       "      <td>02001</td>\n",
       "      <td>5.0</td>\n",
       "      <td>3.0</td>\n",
       "      <td>19.0</td>\n",
       "    </tr>\n",
       "    <tr>\n",
       "      <th>1</th>\n",
       "      <td>02002</td>\n",
       "      <td>1.0</td>\n",
       "      <td>0.0</td>\n",
       "      <td>5.0</td>\n",
       "    </tr>\n",
       "    <tr>\n",
       "      <th>2</th>\n",
       "      <td>02003</td>\n",
       "      <td>1957.0</td>\n",
       "      <td>658.0</td>\n",
       "      <td>1156.0</td>\n",
       "    </tr>\n",
       "    <tr>\n",
       "      <th>3</th>\n",
       "      <td>02004</td>\n",
       "      <td>5.0</td>\n",
       "      <td>3.0</td>\n",
       "      <td>5.0</td>\n",
       "    </tr>\n",
       "    <tr>\n",
       "      <th>4</th>\n",
       "      <td>02005</td>\n",
       "      <td>7.0</td>\n",
       "      <td>1.0</td>\n",
       "      <td>15.0</td>\n",
       "    </tr>\n",
       "  </tbody>\n",
       "</table>\n",
       "</div>"
      ],
      "text/plain": [
       "  Codigo Municipio  Nacimientos  Matrimonios  Defunciones\n",
       "0            02001          5.0          3.0         19.0\n",
       "1            02002          1.0          0.0          5.0\n",
       "2            02003       1957.0        658.0       1156.0\n",
       "3            02004          5.0          3.0          5.0\n",
       "4            02005          7.0          1.0         15.0"
      ]
     },
     "execution_count": 11,
     "metadata": {},
     "output_type": "execute_result"
    }
   ],
   "source": [
    "Naci_Matri_Defun11.head()"
   ]
  },
  {
   "cell_type": "code",
   "execution_count": 12,
   "id": "981ec496",
   "metadata": {},
   "outputs": [],
   "source": [
    "Naci_Matri_Defun11.to_csv('05_Output_Nacimientos_Matrimonios_Defunciones_11.csv', header = True, index = False)"
   ]
  }
 ],
 "metadata": {
  "kernelspec": {
   "display_name": "Python 3 (ipykernel)",
   "language": "python",
   "name": "python3"
  },
  "language_info": {
   "codemirror_mode": {
    "name": "ipython",
    "version": 3
   },
   "file_extension": ".py",
   "mimetype": "text/x-python",
   "name": "python",
   "nbconvert_exporter": "python",
   "pygments_lexer": "ipython3",
   "version": "3.8.11"
  }
 },
 "nbformat": 4,
 "nbformat_minor": 5
}
