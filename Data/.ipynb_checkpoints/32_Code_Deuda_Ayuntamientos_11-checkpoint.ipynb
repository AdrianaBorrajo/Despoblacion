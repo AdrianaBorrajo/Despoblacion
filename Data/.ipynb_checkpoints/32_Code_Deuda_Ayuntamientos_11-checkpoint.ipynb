{
 "cells": [
  {
   "cell_type": "markdown",
   "id": "e3a3f96a",
   "metadata": {},
   "source": [
    "## Deuda ayuntamientos 2011\n",
    "\n",
    "En este notebook procesaremos un .xlsx con la deuda viva de cada uno de los municipios en 2011.  \n",
    "\n",
    "Obtendremos un DataFrame con la siguiente información:\n",
    "- Codigo Municipio\n",
    "- Deuda (Miles de €)\n",
    "\n"
   ]
  },
  {
   "cell_type": "code",
   "execution_count": 1,
   "id": "06bef746",
   "metadata": {},
   "outputs": [],
   "source": [
    "import pandas as pd"
   ]
  },
  {
   "cell_type": "code",
   "execution_count": 2,
   "id": "b8c30e5a",
   "metadata": {},
   "outputs": [
    {
     "data": {
      "text/html": [
       "<div>\n",
       "<style scoped>\n",
       "    .dataframe tbody tr th:only-of-type {\n",
       "        vertical-align: middle;\n",
       "    }\n",
       "\n",
       "    .dataframe tbody tr th {\n",
       "        vertical-align: top;\n",
       "    }\n",
       "\n",
       "    .dataframe thead th {\n",
       "        text-align: right;\n",
       "    }\n",
       "</style>\n",
       "<table border=\"1\" class=\"dataframe\">\n",
       "  <thead>\n",
       "    <tr style=\"text-align: right;\">\n",
       "      <th></th>\n",
       "      <th>Codigo CA</th>\n",
       "      <th>Codigo Provin</th>\n",
       "      <th>Codigo Municipio</th>\n",
       "      <th>Municipio</th>\n",
       "      <th>Deuda (Miles de €)</th>\n",
       "    </tr>\n",
       "  </thead>\n",
       "  <tbody>\n",
       "    <tr>\n",
       "      <th>0</th>\n",
       "      <td>1</td>\n",
       "      <td>4</td>\n",
       "      <td>04001</td>\n",
       "      <td>Abla                                          ...</td>\n",
       "      <td>655.0</td>\n",
       "    </tr>\n",
       "    <tr>\n",
       "      <th>1</th>\n",
       "      <td>1</td>\n",
       "      <td>4</td>\n",
       "      <td>04002</td>\n",
       "      <td>Abrucena                                      ...</td>\n",
       "      <td>262.0</td>\n",
       "    </tr>\n",
       "    <tr>\n",
       "      <th>2</th>\n",
       "      <td>1</td>\n",
       "      <td>4</td>\n",
       "      <td>04003</td>\n",
       "      <td>Adra                                          ...</td>\n",
       "      <td>14657.0</td>\n",
       "    </tr>\n",
       "    <tr>\n",
       "      <th>3</th>\n",
       "      <td>1</td>\n",
       "      <td>4</td>\n",
       "      <td>04004</td>\n",
       "      <td>Albánchez                                     ...</td>\n",
       "      <td>164.0</td>\n",
       "    </tr>\n",
       "    <tr>\n",
       "      <th>4</th>\n",
       "      <td>1</td>\n",
       "      <td>4</td>\n",
       "      <td>04005</td>\n",
       "      <td>Alboloduy                                     ...</td>\n",
       "      <td>38.0</td>\n",
       "    </tr>\n",
       "  </tbody>\n",
       "</table>\n",
       "</div>"
      ],
      "text/plain": [
       "   Codigo CA  Codigo Provin Codigo Municipio  \\\n",
       "0          1              4            04001   \n",
       "1          1              4            04002   \n",
       "2          1              4            04003   \n",
       "3          1              4            04004   \n",
       "4          1              4            04005   \n",
       "\n",
       "                                           Municipio  Deuda (Miles de €)  \n",
       "0  Abla                                          ...               655.0  \n",
       "1  Abrucena                                      ...               262.0  \n",
       "2  Adra                                          ...             14657.0  \n",
       "3  Albánchez                                     ...               164.0  \n",
       "4  Alboloduy                                     ...                38.0  "
      ]
     },
     "execution_count": 2,
     "metadata": {},
     "output_type": "execute_result"
    }
   ],
   "source": [
    "Deuda11 = pd.read_excel('32_Input_Deuda_Ayuntamientos_11.xlsx', dtype={'Codigo Municipio' : str})\n",
    "Deuda11.head()"
   ]
  },
  {
   "cell_type": "code",
   "execution_count": 3,
   "id": "7a6fa31a",
   "metadata": {},
   "outputs": [
    {
     "data": {
      "text/html": [
       "<div>\n",
       "<style scoped>\n",
       "    .dataframe tbody tr th:only-of-type {\n",
       "        vertical-align: middle;\n",
       "    }\n",
       "\n",
       "    .dataframe tbody tr th {\n",
       "        vertical-align: top;\n",
       "    }\n",
       "\n",
       "    .dataframe thead th {\n",
       "        text-align: right;\n",
       "    }\n",
       "</style>\n",
       "<table border=\"1\" class=\"dataframe\">\n",
       "  <thead>\n",
       "    <tr style=\"text-align: right;\">\n",
       "      <th></th>\n",
       "      <th>Codigo Municipio</th>\n",
       "      <th>Deuda (Miles de €)</th>\n",
       "    </tr>\n",
       "  </thead>\n",
       "  <tbody>\n",
       "    <tr>\n",
       "      <th>0</th>\n",
       "      <td>04001</td>\n",
       "      <td>655.0</td>\n",
       "    </tr>\n",
       "    <tr>\n",
       "      <th>1</th>\n",
       "      <td>04002</td>\n",
       "      <td>262.0</td>\n",
       "    </tr>\n",
       "    <tr>\n",
       "      <th>2</th>\n",
       "      <td>04003</td>\n",
       "      <td>14657.0</td>\n",
       "    </tr>\n",
       "    <tr>\n",
       "      <th>3</th>\n",
       "      <td>04004</td>\n",
       "      <td>164.0</td>\n",
       "    </tr>\n",
       "    <tr>\n",
       "      <th>4</th>\n",
       "      <td>04005</td>\n",
       "      <td>38.0</td>\n",
       "    </tr>\n",
       "  </tbody>\n",
       "</table>\n",
       "</div>"
      ],
      "text/plain": [
       "  Codigo Municipio  Deuda (Miles de €)\n",
       "0            04001               655.0\n",
       "1            04002               262.0\n",
       "2            04003             14657.0\n",
       "3            04004               164.0\n",
       "4            04005                38.0"
      ]
     },
     "execution_count": 3,
     "metadata": {},
     "output_type": "execute_result"
    }
   ],
   "source": [
    "Deuda11.drop(['Codigo CA', \n",
    "              'Codigo Provin',\n",
    "              'Municipio'], axis=1, inplace=True)\n",
    "\n",
    "\n",
    "Deuda11.head()"
   ]
  },
  {
   "cell_type": "code",
   "execution_count": 4,
   "id": "42600f0b",
   "metadata": {},
   "outputs": [],
   "source": [
    "Deuda11.to_csv('32_Output_Deuda_Ayuntamientos_11.csv', header = True, index = False)"
   ]
  }
 ],
 "metadata": {
  "kernelspec": {
   "display_name": "Python 3 (ipykernel)",
   "language": "python",
   "name": "python3"
  },
  "language_info": {
   "codemirror_mode": {
    "name": "ipython",
    "version": 3
   },
   "file_extension": ".py",
   "mimetype": "text/x-python",
   "name": "python",
   "nbconvert_exporter": "python",
   "pygments_lexer": "ipython3",
   "version": "3.8.11"
  }
 },
 "nbformat": 4,
 "nbformat_minor": 5
}
