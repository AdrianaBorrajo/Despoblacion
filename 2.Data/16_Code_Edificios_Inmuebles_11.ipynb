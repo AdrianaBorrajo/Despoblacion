{
 "cells": [
  {
   "cell_type": "markdown",
   "id": "15556bba",
   "metadata": {},
   "source": [
    "## Número de edificios e inmuebles 2011\n",
    "\n",
    "En este notebook procesaremos un JSON que contiene el número de edificos e inmuebles desagregado por municipios.\n",
    "\n",
    "Obtendremos un DataFrame con la siguiente información:\n",
    "- Codigo Municipio\n",
    "- Nº edificios\n",
    "- Nº inmuebles"
   ]
  },
  {
   "cell_type": "code",
   "execution_count": 1,
   "id": "b3d49ea7",
   "metadata": {},
   "outputs": [],
   "source": [
    "import pandas as pd\n",
    "import requests"
   ]
  },
  {
   "cell_type": "code",
   "execution_count": 2,
   "id": "c09407b6",
   "metadata": {},
   "outputs": [],
   "source": [
    "Path = 'https://servicios.ine.es/wstempus/js/es/DATOS_TABLA//t20/e244/edificios/p04/l0/1mun00.px?tip=AM&p=2&'\n",
    "\n",
    "json_request = requests.get(Path).json()"
   ]
  },
  {
   "cell_type": "code",
   "execution_count": 3,
   "id": "fbcb61cc",
   "metadata": {},
   "outputs": [],
   "source": [
    "CodEdiList = list()\n",
    "EdiList = list()\n",
    "CodInmuList = list()\n",
    "InmuList = list()"
   ]
  },
  {
   "cell_type": "code",
   "execution_count": 4,
   "id": "852b1019",
   "metadata": {},
   "outputs": [],
   "source": [
    "for dato in json_request: \n",
    "    for i in range(0,len(dato['Data'])):\n",
    "        if 'edificios' in dato['Nombre']:\n",
    "            CodEdiList.append(dato['MetaData'][0]['Codigo'])\n",
    "            EdiList.append(dato['Data'][i]['Valor'])\n",
    "        elif 'inmuebles' in dato['Nombre']:\n",
    "            CodInmuList.append(dato['MetaData'][0]['Codigo'])\n",
    "            InmuList.append(dato['Data'][i]['Valor'])     "
   ]
  },
  {
   "cell_type": "code",
   "execution_count": 5,
   "id": "51afe932",
   "metadata": {},
   "outputs": [],
   "source": [
    "Edificios11 = pd.DataFrame({\n",
    "        'Codigo Municipio' : CodEdiList,\n",
    "        'Nº edificios': EdiList\n",
    "    })\n",
    "\n",
    "Inmuebles11 = pd.DataFrame({\n",
    "        'Codigo Municipio' : CodInmuList,\n",
    "        'Nº Inmuebles': InmuList\n",
    "    })"
   ]
  },
  {
   "cell_type": "code",
   "execution_count": 6,
   "id": "075b24ce",
   "metadata": {},
   "outputs": [
    {
     "data": {
      "text/html": [
       "<div>\n",
       "<style scoped>\n",
       "    .dataframe tbody tr th:only-of-type {\n",
       "        vertical-align: middle;\n",
       "    }\n",
       "\n",
       "    .dataframe tbody tr th {\n",
       "        vertical-align: top;\n",
       "    }\n",
       "\n",
       "    .dataframe thead th {\n",
       "        text-align: right;\n",
       "    }\n",
       "</style>\n",
       "<table border=\"1\" class=\"dataframe\">\n",
       "  <thead>\n",
       "    <tr style=\"text-align: right;\">\n",
       "      <th></th>\n",
       "      <th>Codigo Municipio</th>\n",
       "      <th>Nº edificios</th>\n",
       "      <th>Nº Inmuebles</th>\n",
       "    </tr>\n",
       "  </thead>\n",
       "  <tbody>\n",
       "    <tr>\n",
       "      <th>0</th>\n",
       "      <td>00000</td>\n",
       "      <td>9814785.0</td>\n",
       "      <td>26385115.0</td>\n",
       "    </tr>\n",
       "    <tr>\n",
       "      <th>1</th>\n",
       "      <td>44001</td>\n",
       "      <td>100.0</td>\n",
       "      <td>105.0</td>\n",
       "    </tr>\n",
       "    <tr>\n",
       "      <th>2</th>\n",
       "      <td>40001</td>\n",
       "      <td>506.0</td>\n",
       "      <td>543.0</td>\n",
       "    </tr>\n",
       "    <tr>\n",
       "      <th>3</th>\n",
       "      <td>10001</td>\n",
       "      <td>192.0</td>\n",
       "      <td>216.0</td>\n",
       "    </tr>\n",
       "    <tr>\n",
       "      <th>4</th>\n",
       "      <td>27001</td>\n",
       "      <td>1577.0</td>\n",
       "      <td>1662.0</td>\n",
       "    </tr>\n",
       "  </tbody>\n",
       "</table>\n",
       "</div>"
      ],
      "text/plain": [
       "  Codigo Municipio  Nº edificios  Nº Inmuebles\n",
       "0            00000     9814785.0    26385115.0\n",
       "1            44001         100.0         105.0\n",
       "2            40001         506.0         543.0\n",
       "3            10001         192.0         216.0\n",
       "4            27001        1577.0        1662.0"
      ]
     },
     "execution_count": 6,
     "metadata": {},
     "output_type": "execute_result"
    }
   ],
   "source": [
    "EdificiosInmuebles11 = pd.concat([Edificios11, Inmuebles11], axis = 1)\n",
    "\n",
    "EdificiosInmuebles11 = EdificiosInmuebles11.loc[:, ~EdificiosInmuebles11.columns.duplicated()]\n",
    "\n",
    "EdificiosInmuebles11.head()"
   ]
  },
  {
   "cell_type": "code",
   "execution_count": 7,
   "id": "7860efb8",
   "metadata": {},
   "outputs": [],
   "source": [
    "EdificiosInmuebles11.to_csv('16_Output_Edificios_Inmuebles_11.csv', header = True, index = False)"
   ]
  }
 ],
 "metadata": {
  "kernelspec": {
   "display_name": "Python 3 (ipykernel)",
   "language": "python",
   "name": "python3"
  },
  "language_info": {
   "codemirror_mode": {
    "name": "ipython",
    "version": 3
   },
   "file_extension": ".py",
   "mimetype": "text/x-python",
   "name": "python",
   "nbconvert_exporter": "python",
   "pygments_lexer": "ipython3",
   "version": "3.8.11"
  }
 },
 "nbformat": 4,
 "nbformat_minor": 5
}
