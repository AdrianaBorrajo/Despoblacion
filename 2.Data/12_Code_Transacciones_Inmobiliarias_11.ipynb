{
 "cells": [
  {
   "cell_type": "markdown",
   "id": "78a4c4f5",
   "metadata": {},
   "source": [
    "## Número de transacciones inmobiliarias 2011\n",
    "En este notebook procesaremos un .xlsx con el número de transacciones inmobiliarias de viviendas desagregado por municipios.  \n",
    "\n",
    "Obtendremos un DataFrame con la siguiente información:\n",
    "- Codigo Municipio\n",
    "- Nº Transacciones Inmobiliarias \n"
   ]
  },
  {
   "cell_type": "code",
   "execution_count": 1,
   "id": "80004462",
   "metadata": {},
   "outputs": [],
   "source": [
    "import pandas as pd\n",
    "import numpy as np"
   ]
  },
  {
   "cell_type": "code",
   "execution_count": 2,
   "id": "31630814",
   "metadata": {},
   "outputs": [
    {
     "data": {
      "text/html": [
       "<div>\n",
       "<style scoped>\n",
       "    .dataframe tbody tr th:only-of-type {\n",
       "        vertical-align: middle;\n",
       "    }\n",
       "\n",
       "    .dataframe tbody tr th {\n",
       "        vertical-align: top;\n",
       "    }\n",
       "\n",
       "    .dataframe thead th {\n",
       "        text-align: right;\n",
       "    }\n",
       "</style>\n",
       "<table border=\"1\" class=\"dataframe\">\n",
       "  <thead>\n",
       "    <tr style=\"text-align: right;\">\n",
       "      <th></th>\n",
       "      <th>Código</th>\n",
       "      <th>Etiqueta</th>\n",
       "      <th>Número de transacciones anuales 2011</th>\n",
       "    </tr>\n",
       "  </thead>\n",
       "  <tbody>\n",
       "    <tr>\n",
       "      <th>0</th>\n",
       "      <td>01001</td>\n",
       "      <td>Alegría-Dulantzi</td>\n",
       "      <td>25</td>\n",
       "    </tr>\n",
       "    <tr>\n",
       "      <th>1</th>\n",
       "      <td>01002</td>\n",
       "      <td>Amurrio</td>\n",
       "      <td>185</td>\n",
       "    </tr>\n",
       "    <tr>\n",
       "      <th>2</th>\n",
       "      <td>01003</td>\n",
       "      <td>Aramaio</td>\n",
       "      <td>8</td>\n",
       "    </tr>\n",
       "    <tr>\n",
       "      <th>3</th>\n",
       "      <td>01004</td>\n",
       "      <td>Artziniega</td>\n",
       "      <td>6</td>\n",
       "    </tr>\n",
       "    <tr>\n",
       "      <th>4</th>\n",
       "      <td>01006</td>\n",
       "      <td>Armiñón</td>\n",
       "      <td>7</td>\n",
       "    </tr>\n",
       "  </tbody>\n",
       "</table>\n",
       "</div>"
      ],
      "text/plain": [
       "  Código          Etiqueta Número de transacciones anuales 2011\n",
       "0  01001  Alegría-Dulantzi                                   25\n",
       "1  01002           Amurrio                                  185\n",
       "2  01003           Aramaio                                    8\n",
       "3  01004        Artziniega                                    6\n",
       "4  01006           Armiñón                                    7"
      ]
     },
     "execution_count": 2,
     "metadata": {},
     "output_type": "execute_result"
    }
   ],
   "source": [
    "Transacciones11 = pd.read_excel('12_Input_Transacciones_Inmobiliarias_11.xlsx', dtype = {'Código' : str})\n",
    "\n",
    "Transacciones11.head()"
   ]
  },
  {
   "cell_type": "code",
   "execution_count": 3,
   "id": "c2c53706",
   "metadata": {},
   "outputs": [],
   "source": [
    "Transacciones11.drop(['Etiqueta'], axis = 1, inplace = True)\n",
    "\n",
    "Transacciones11.rename({'Código' : 'Codigo Municipio', \n",
    "                       'Número de transacciones anuales 2020' : 'Nº de transacciones'}, \n",
    "                       axis = 1, inplace = True)"
   ]
  },
  {
   "cell_type": "markdown",
   "id": "11f01438",
   "metadata": {},
   "source": [
    "Algunas variables toman el valor: N/A - resultado no disponible.  \n",
    "Lo substituimos por NaN:"
   ]
  },
  {
   "cell_type": "code",
   "execution_count": 4,
   "id": "4b6bd048",
   "metadata": {},
   "outputs": [],
   "source": [
    "Transacciones11.replace('N/A - resultado no disponible', np.nan, inplace = True)"
   ]
  },
  {
   "cell_type": "code",
   "execution_count": 5,
   "id": "1aad3b17",
   "metadata": {},
   "outputs": [],
   "source": [
    "Transacciones11.to_csv('12_Output_Transacciones_Inmobiliarias_11.csv', header = True, index = False)"
   ]
  }
 ],
 "metadata": {
  "kernelspec": {
   "display_name": "Python 3 (ipykernel)",
   "language": "python",
   "name": "python3"
  },
  "language_info": {
   "codemirror_mode": {
    "name": "ipython",
    "version": 3
   },
   "file_extension": ".py",
   "mimetype": "text/x-python",
   "name": "python",
   "nbconvert_exporter": "python",
   "pygments_lexer": "ipython3",
   "version": "3.8.11"
  }
 },
 "nbformat": 4,
 "nbformat_minor": 5
}
