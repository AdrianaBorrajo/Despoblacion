{
 "cells": [
  {
   "cell_type": "markdown",
   "id": "b359e392",
   "metadata": {},
   "source": [
    "## Numero centros sanitarios 2011\n",
    "En este notebook procesaremos un .xlsx con dos hojas; una con el listado detallado de hospitales y otras con el listado detallado de centros de salud. Ambos desagregados por municipios. \n",
    "\n",
    "Obtendremos un DataFrame con la siguiente información:\n",
    "- Codigo Municipio\n",
    "- Nº Centros Sanitarios\n"
   ]
  },
  {
   "cell_type": "code",
   "execution_count": 1,
   "id": "12d5de76",
   "metadata": {},
   "outputs": [],
   "source": [
    "import pandas as pd"
   ]
  },
  {
   "cell_type": "markdown",
   "id": "8e76efc5",
   "metadata": {},
   "source": [
    "Procesamos el .xlsx de hospitales y de centros de salud del año 2011 y concatenamos:"
   ]
  },
  {
   "cell_type": "code",
   "execution_count": 2,
   "id": "ecec95c4",
   "metadata": {},
   "outputs": [
    {
     "data": {
      "text/html": [
       "<div>\n",
       "<style scoped>\n",
       "    .dataframe tbody tr th:only-of-type {\n",
       "        vertical-align: middle;\n",
       "    }\n",
       "\n",
       "    .dataframe tbody tr th {\n",
       "        vertical-align: top;\n",
       "    }\n",
       "\n",
       "    .dataframe thead th {\n",
       "        text-align: right;\n",
       "    }\n",
       "</style>\n",
       "<table border=\"1\" class=\"dataframe\">\n",
       "  <thead>\n",
       "    <tr style=\"text-align: right;\">\n",
       "      <th></th>\n",
       "      <th>NOMBRE</th>\n",
       "      <th>CODMU</th>\n",
       "    </tr>\n",
       "  </thead>\n",
       "  <tbody>\n",
       "    <tr>\n",
       "      <th>0</th>\n",
       "      <td>HOSPITAL NUESTRA SE?ORA DEL PERPETUO SOCORRO S.A.</td>\n",
       "      <td>30016</td>\n",
       "    </tr>\n",
       "    <tr>\n",
       "      <th>1</th>\n",
       "      <td>FUNDACION HOSPITAL DE LA REAL PIEDAD</td>\n",
       "      <td>30017</td>\n",
       "    </tr>\n",
       "    <tr>\n",
       "      <th>2</th>\n",
       "      <td>HOSPITAL VIRGEN DEL ALCAZAR</td>\n",
       "      <td>30024</td>\n",
       "    </tr>\n",
       "    <tr>\n",
       "      <th>3</th>\n",
       "      <td>HOSPITAL UNIVERSITARIO LOS ARCOS DEL MAR MENOR</td>\n",
       "      <td>30035</td>\n",
       "    </tr>\n",
       "    <tr>\n",
       "      <th>4</th>\n",
       "      <td>HOSPITAL VIRGEN DEL CASTILLO</td>\n",
       "      <td>30043</td>\n",
       "    </tr>\n",
       "  </tbody>\n",
       "</table>\n",
       "</div>"
      ],
      "text/plain": [
       "                                              NOMBRE  CODMU\n",
       "0  HOSPITAL NUESTRA SE?ORA DEL PERPETUO SOCORRO S.A.  30016\n",
       "1               FUNDACION HOSPITAL DE LA REAL PIEDAD  30017\n",
       "2                       HOSPITAL VIRGEN DEL ALCAZAR   30024\n",
       "3     HOSPITAL UNIVERSITARIO LOS ARCOS DEL MAR MENOR  30035\n",
       "4                       HOSPITAL VIRGEN DEL CASTILLO  30043"
      ]
     },
     "execution_count": 2,
     "metadata": {},
     "output_type": "execute_result"
    }
   ],
   "source": [
    "Hospitales11 = pd.read_excel('10_Input_Centros_Sanitarios_11.xlsx', usecols = ['NOMBRE','CODMU'], \n",
    "                             sheet_name ='HOSPITALES', dtype = {'CODMU' : str})\n",
    "\n",
    "Hospitales11.head()"
   ]
  },
  {
   "cell_type": "code",
   "execution_count": 3,
   "id": "64c84ca8",
   "metadata": {},
   "outputs": [
    {
     "data": {
      "text/html": [
       "<div>\n",
       "<style scoped>\n",
       "    .dataframe tbody tr th:only-of-type {\n",
       "        vertical-align: middle;\n",
       "    }\n",
       "\n",
       "    .dataframe tbody tr th {\n",
       "        vertical-align: top;\n",
       "    }\n",
       "\n",
       "    .dataframe thead th {\n",
       "        text-align: right;\n",
       "    }\n",
       "</style>\n",
       "<table border=\"1\" class=\"dataframe\">\n",
       "  <thead>\n",
       "    <tr style=\"text-align: right;\">\n",
       "      <th></th>\n",
       "      <th>NOMBRE</th>\n",
       "      <th>CODMU</th>\n",
       "    </tr>\n",
       "  </thead>\n",
       "  <tbody>\n",
       "    <tr>\n",
       "      <th>0</th>\n",
       "      <td>ELENA GINEL DIEZ</td>\n",
       "      <td>37274</td>\n",
       "    </tr>\n",
       "    <tr>\n",
       "      <th>1</th>\n",
       "      <td>BENQUERENCIA</td>\n",
       "      <td>45168</td>\n",
       "    </tr>\n",
       "    <tr>\n",
       "      <th>2</th>\n",
       "      <td>GARGANTIEL</td>\n",
       "      <td>13012</td>\n",
       "    </tr>\n",
       "    <tr>\n",
       "      <th>3</th>\n",
       "      <td>SAN MIGUEL DE GENETO</td>\n",
       "      <td>38023</td>\n",
       "    </tr>\n",
       "    <tr>\n",
       "      <th>4</th>\n",
       "      <td>GALLEGOS</td>\n",
       "      <td>38007</td>\n",
       "    </tr>\n",
       "  </tbody>\n",
       "</table>\n",
       "</div>"
      ],
      "text/plain": [
       "                 NOMBRE  CODMU\n",
       "0      ELENA GINEL DIEZ  37274\n",
       "1          BENQUERENCIA  45168\n",
       "2            GARGANTIEL  13012\n",
       "3  SAN MIGUEL DE GENETO  38023\n",
       "4              GALLEGOS  38007"
      ]
     },
     "execution_count": 3,
     "metadata": {},
     "output_type": "execute_result"
    }
   ],
   "source": [
    "CentrosSalud11 = pd.read_excel('10_Input_Centros_Sanitarios_11.xlsx', usecols = ['NOMBRE', 'CODMU'], \n",
    "                               sheet_name ='CENTROS', dtype = {'CODMU' : str})\n",
    "\n",
    "CentrosSalud11.head()"
   ]
  },
  {
   "cell_type": "code",
   "execution_count": 4,
   "id": "18e5e6d6",
   "metadata": {},
   "outputs": [
    {
     "data": {
      "text/html": [
       "<div>\n",
       "<style scoped>\n",
       "    .dataframe tbody tr th:only-of-type {\n",
       "        vertical-align: middle;\n",
       "    }\n",
       "\n",
       "    .dataframe tbody tr th {\n",
       "        vertical-align: top;\n",
       "    }\n",
       "\n",
       "    .dataframe thead th {\n",
       "        text-align: right;\n",
       "    }\n",
       "</style>\n",
       "<table border=\"1\" class=\"dataframe\">\n",
       "  <thead>\n",
       "    <tr style=\"text-align: right;\">\n",
       "      <th></th>\n",
       "      <th>NOMBRE</th>\n",
       "      <th>CODMU</th>\n",
       "    </tr>\n",
       "  </thead>\n",
       "  <tbody>\n",
       "    <tr>\n",
       "      <th>0</th>\n",
       "      <td>HOSPITAL NUESTRA SE?ORA DEL PERPETUO SOCORRO S.A.</td>\n",
       "      <td>30016</td>\n",
       "    </tr>\n",
       "    <tr>\n",
       "      <th>1</th>\n",
       "      <td>FUNDACION HOSPITAL DE LA REAL PIEDAD</td>\n",
       "      <td>30017</td>\n",
       "    </tr>\n",
       "    <tr>\n",
       "      <th>2</th>\n",
       "      <td>HOSPITAL VIRGEN DEL ALCAZAR</td>\n",
       "      <td>30024</td>\n",
       "    </tr>\n",
       "    <tr>\n",
       "      <th>3</th>\n",
       "      <td>HOSPITAL UNIVERSITARIO LOS ARCOS DEL MAR MENOR</td>\n",
       "      <td>30035</td>\n",
       "    </tr>\n",
       "    <tr>\n",
       "      <th>4</th>\n",
       "      <td>HOSPITAL VIRGEN DEL CASTILLO</td>\n",
       "      <td>30043</td>\n",
       "    </tr>\n",
       "  </tbody>\n",
       "</table>\n",
       "</div>"
      ],
      "text/plain": [
       "                                              NOMBRE  CODMU\n",
       "0  HOSPITAL NUESTRA SE?ORA DEL PERPETUO SOCORRO S.A.  30016\n",
       "1               FUNDACION HOSPITAL DE LA REAL PIEDAD  30017\n",
       "2                       HOSPITAL VIRGEN DEL ALCAZAR   30024\n",
       "3     HOSPITAL UNIVERSITARIO LOS ARCOS DEL MAR MENOR  30035\n",
       "4                       HOSPITAL VIRGEN DEL CASTILLO  30043"
      ]
     },
     "execution_count": 4,
     "metadata": {},
     "output_type": "execute_result"
    }
   ],
   "source": [
    "CentrosSanitarios11 = pd.concat([Hospitales11, CentrosSalud11], ignore_index = True)\n",
    "\n",
    "CentrosSanitarios11.head()"
   ]
  },
  {
   "cell_type": "markdown",
   "id": "c0783e92",
   "metadata": {},
   "source": [
    "Contamos cuántos centros sanitarios hay por municipio agrupando por el código de municipio:"
   ]
  },
  {
   "cell_type": "code",
   "execution_count": 5,
   "id": "21c52e02",
   "metadata": {},
   "outputs": [
    {
     "data": {
      "text/html": [
       "<div>\n",
       "<style scoped>\n",
       "    .dataframe tbody tr th:only-of-type {\n",
       "        vertical-align: middle;\n",
       "    }\n",
       "\n",
       "    .dataframe tbody tr th {\n",
       "        vertical-align: top;\n",
       "    }\n",
       "\n",
       "    .dataframe thead th {\n",
       "        text-align: right;\n",
       "    }\n",
       "</style>\n",
       "<table border=\"1\" class=\"dataframe\">\n",
       "  <thead>\n",
       "    <tr style=\"text-align: right;\">\n",
       "      <th></th>\n",
       "      <th>CODMU</th>\n",
       "      <th>NOMBRE</th>\n",
       "    </tr>\n",
       "  </thead>\n",
       "  <tbody>\n",
       "    <tr>\n",
       "      <th>0</th>\n",
       "      <td>01001</td>\n",
       "      <td>1</td>\n",
       "    </tr>\n",
       "    <tr>\n",
       "      <th>1</th>\n",
       "      <td>01002</td>\n",
       "      <td>2</td>\n",
       "    </tr>\n",
       "    <tr>\n",
       "      <th>2</th>\n",
       "      <td>01003</td>\n",
       "      <td>1</td>\n",
       "    </tr>\n",
       "    <tr>\n",
       "      <th>3</th>\n",
       "      <td>01004</td>\n",
       "      <td>1</td>\n",
       "    </tr>\n",
       "    <tr>\n",
       "      <th>4</th>\n",
       "      <td>01008</td>\n",
       "      <td>1</td>\n",
       "    </tr>\n",
       "  </tbody>\n",
       "</table>\n",
       "</div>"
      ],
      "text/plain": [
       "   CODMU  NOMBRE\n",
       "0  01001       1\n",
       "1  01002       2\n",
       "2  01003       1\n",
       "3  01004       1\n",
       "4  01008       1"
      ]
     },
     "execution_count": 5,
     "metadata": {},
     "output_type": "execute_result"
    }
   ],
   "source": [
    "CentrosSanitarios11 = CentrosSanitarios11.groupby('CODMU')['NOMBRE'].count()\n",
    "\n",
    "CentrosSanitarios11 = CentrosSanitarios11.reset_index()\n",
    "\n",
    "CentrosSanitarios11.head()"
   ]
  },
  {
   "cell_type": "code",
   "execution_count": 6,
   "id": "7173dedd",
   "metadata": {},
   "outputs": [
    {
     "data": {
      "text/html": [
       "<div>\n",
       "<style scoped>\n",
       "    .dataframe tbody tr th:only-of-type {\n",
       "        vertical-align: middle;\n",
       "    }\n",
       "\n",
       "    .dataframe tbody tr th {\n",
       "        vertical-align: top;\n",
       "    }\n",
       "\n",
       "    .dataframe thead th {\n",
       "        text-align: right;\n",
       "    }\n",
       "</style>\n",
       "<table border=\"1\" class=\"dataframe\">\n",
       "  <thead>\n",
       "    <tr style=\"text-align: right;\">\n",
       "      <th></th>\n",
       "      <th>Codigo Municipio</th>\n",
       "      <th>Nº Centros Sanitarios</th>\n",
       "    </tr>\n",
       "  </thead>\n",
       "  <tbody>\n",
       "    <tr>\n",
       "      <th>0</th>\n",
       "      <td>01001</td>\n",
       "      <td>1</td>\n",
       "    </tr>\n",
       "    <tr>\n",
       "      <th>1</th>\n",
       "      <td>01002</td>\n",
       "      <td>2</td>\n",
       "    </tr>\n",
       "    <tr>\n",
       "      <th>2</th>\n",
       "      <td>01003</td>\n",
       "      <td>1</td>\n",
       "    </tr>\n",
       "    <tr>\n",
       "      <th>3</th>\n",
       "      <td>01004</td>\n",
       "      <td>1</td>\n",
       "    </tr>\n",
       "    <tr>\n",
       "      <th>4</th>\n",
       "      <td>01008</td>\n",
       "      <td>1</td>\n",
       "    </tr>\n",
       "  </tbody>\n",
       "</table>\n",
       "</div>"
      ],
      "text/plain": [
       "  Codigo Municipio  Nº Centros Sanitarios\n",
       "0            01001                      1\n",
       "1            01002                      2\n",
       "2            01003                      1\n",
       "3            01004                      1\n",
       "4            01008                      1"
      ]
     },
     "execution_count": 6,
     "metadata": {},
     "output_type": "execute_result"
    }
   ],
   "source": [
    "CentrosSanitarios11.rename({'NOMBRE' : 'Nº Centros Sanitarios', 'CODMU' : 'Codigo Municipio'}, \n",
    "                           axis = 1, inplace = True)\n",
    "\n",
    "CentrosSanitarios11.head()"
   ]
  },
  {
   "cell_type": "code",
   "execution_count": 7,
   "id": "92570b1c",
   "metadata": {},
   "outputs": [],
   "source": [
    "CentrosSanitarios11.to_csv('10_Output_Centros_Sanitarios_11.csv', header = True, index = False)"
   ]
  }
 ],
 "metadata": {
  "kernelspec": {
   "display_name": "Python 3 (ipykernel)",
   "language": "python",
   "name": "python3"
  },
  "language_info": {
   "codemirror_mode": {
    "name": "ipython",
    "version": 3
   },
   "file_extension": ".py",
   "mimetype": "text/x-python",
   "name": "python",
   "nbconvert_exporter": "python",
   "pygments_lexer": "ipython3",
   "version": "3.8.11"
  }
 },
 "nbformat": 4,
 "nbformat_minor": 5
}
