{
 "cells": [
  {
   "cell_type": "markdown",
   "id": "57f6f949",
   "metadata": {},
   "source": [
    "## Numero de centros educativos 2011\n",
    "En este notebook procesaremos un .xlsx  que contiene el listado detallado de centros educativos desagregados por municipios.  \n",
    "\n",
    "Obtendremos un DataFrame con la siguiente información:\n",
    "- Codigo Municipio\n",
    "- Nº Centros Educativos\n"
   ]
  },
  {
   "cell_type": "code",
   "execution_count": 1,
   "id": "6bf47a5e",
   "metadata": {},
   "outputs": [],
   "source": [
    "import pandas as pd"
   ]
  },
  {
   "cell_type": "code",
   "execution_count": 2,
   "id": "dac20aa5",
   "metadata": {},
   "outputs": [
    {
     "data": {
      "text/html": [
       "<div>\n",
       "<style scoped>\n",
       "    .dataframe tbody tr th:only-of-type {\n",
       "        vertical-align: middle;\n",
       "    }\n",
       "\n",
       "    .dataframe tbody tr th {\n",
       "        vertical-align: top;\n",
       "    }\n",
       "\n",
       "    .dataframe thead th {\n",
       "        text-align: right;\n",
       "    }\n",
       "</style>\n",
       "<table border=\"1\" class=\"dataframe\">\n",
       "  <thead>\n",
       "    <tr style=\"text-align: right;\">\n",
       "      <th></th>\n",
       "      <th>Denominación genérica</th>\n",
       "      <th>codigo ine</th>\n",
       "    </tr>\n",
       "  </thead>\n",
       "  <tbody>\n",
       "    <tr>\n",
       "      <th>0</th>\n",
       "      <td>AIURRI MONTESSORI</td>\n",
       "      <td>01059</td>\n",
       "    </tr>\n",
       "    <tr>\n",
       "      <th>1</th>\n",
       "      <td>EUROPA</td>\n",
       "      <td>01059</td>\n",
       "    </tr>\n",
       "    <tr>\n",
       "      <th>2</th>\n",
       "      <td>VERGE DE MONTI-SION</td>\n",
       "      <td>07043</td>\n",
       "    </tr>\n",
       "    <tr>\n",
       "      <th>3</th>\n",
       "      <td>VÉNDA D&amp;apos;ARABÍ</td>\n",
       "      <td>07054</td>\n",
       "    </tr>\n",
       "    <tr>\n",
       "      <th>4</th>\n",
       "      <td>Ernest Lluch</td>\n",
       "      <td>08001</td>\n",
       "    </tr>\n",
       "  </tbody>\n",
       "</table>\n",
       "</div>"
      ],
      "text/plain": [
       "  Denominación genérica codigo ine\n",
       "0     AIURRI MONTESSORI      01059\n",
       "1                EUROPA      01059\n",
       "2   VERGE DE MONTI-SION      07043\n",
       "3    VÉNDA D&apos;ARABÍ      07054\n",
       "4          Ernest Lluch      08001"
      ]
     },
     "execution_count": 2,
     "metadata": {},
     "output_type": "execute_result"
    }
   ],
   "source": [
    "CentrosEducativos11 = pd.read_excel('11_Input_Centros_Educativos_11.xlsx', \n",
    "                                    usecols = ['Denominación genérica', 'codigo ine'],\n",
    "                                    dtype = {'codigo ine' : str})\n",
    "\n",
    "CentrosEducativos11.head()"
   ]
  },
  {
   "cell_type": "markdown",
   "id": "9c0fdc63",
   "metadata": {},
   "source": [
    "Contamos cuántos centros educativos hay por municipio agrupando por Codigo Ine:"
   ]
  },
  {
   "cell_type": "code",
   "execution_count": 3,
   "id": "a02038ac",
   "metadata": {},
   "outputs": [
    {
     "data": {
      "text/html": [
       "<div>\n",
       "<style scoped>\n",
       "    .dataframe tbody tr th:only-of-type {\n",
       "        vertical-align: middle;\n",
       "    }\n",
       "\n",
       "    .dataframe tbody tr th {\n",
       "        vertical-align: top;\n",
       "    }\n",
       "\n",
       "    .dataframe thead th {\n",
       "        text-align: right;\n",
       "    }\n",
       "</style>\n",
       "<table border=\"1\" class=\"dataframe\">\n",
       "  <thead>\n",
       "    <tr style=\"text-align: right;\">\n",
       "      <th></th>\n",
       "      <th>codigo ine</th>\n",
       "      <th>Denominación genérica</th>\n",
       "    </tr>\n",
       "  </thead>\n",
       "  <tbody>\n",
       "    <tr>\n",
       "      <th>0</th>\n",
       "      <td>01001</td>\n",
       "      <td>4</td>\n",
       "    </tr>\n",
       "    <tr>\n",
       "      <th>1</th>\n",
       "      <td>01002</td>\n",
       "      <td>9</td>\n",
       "    </tr>\n",
       "    <tr>\n",
       "      <th>2</th>\n",
       "      <td>01003</td>\n",
       "      <td>2</td>\n",
       "    </tr>\n",
       "    <tr>\n",
       "      <th>3</th>\n",
       "      <td>01004</td>\n",
       "      <td>3</td>\n",
       "    </tr>\n",
       "    <tr>\n",
       "      <th>4</th>\n",
       "      <td>01006</td>\n",
       "      <td>2</td>\n",
       "    </tr>\n",
       "  </tbody>\n",
       "</table>\n",
       "</div>"
      ],
      "text/plain": [
       "  codigo ine  Denominación genérica\n",
       "0      01001                      4\n",
       "1      01002                      9\n",
       "2      01003                      2\n",
       "3      01004                      3\n",
       "4      01006                      2"
      ]
     },
     "execution_count": 3,
     "metadata": {},
     "output_type": "execute_result"
    }
   ],
   "source": [
    "CentrosEducativos11 = CentrosEducativos11.groupby('codigo ine')['Denominación genérica'].count()\n",
    "CentrosEducativos11 = CentrosEducativos11.reset_index()\n",
    "\n",
    "CentrosEducativos11.head()"
   ]
  },
  {
   "cell_type": "code",
   "execution_count": 4,
   "id": "b61a8707",
   "metadata": {},
   "outputs": [
    {
     "data": {
      "text/html": [
       "<div>\n",
       "<style scoped>\n",
       "    .dataframe tbody tr th:only-of-type {\n",
       "        vertical-align: middle;\n",
       "    }\n",
       "\n",
       "    .dataframe tbody tr th {\n",
       "        vertical-align: top;\n",
       "    }\n",
       "\n",
       "    .dataframe thead th {\n",
       "        text-align: right;\n",
       "    }\n",
       "</style>\n",
       "<table border=\"1\" class=\"dataframe\">\n",
       "  <thead>\n",
       "    <tr style=\"text-align: right;\">\n",
       "      <th></th>\n",
       "      <th>Codigo Municipio</th>\n",
       "      <th>Nº Centros Educativos</th>\n",
       "    </tr>\n",
       "  </thead>\n",
       "  <tbody>\n",
       "    <tr>\n",
       "      <th>0</th>\n",
       "      <td>01001</td>\n",
       "      <td>4</td>\n",
       "    </tr>\n",
       "    <tr>\n",
       "      <th>1</th>\n",
       "      <td>01002</td>\n",
       "      <td>9</td>\n",
       "    </tr>\n",
       "    <tr>\n",
       "      <th>2</th>\n",
       "      <td>01003</td>\n",
       "      <td>2</td>\n",
       "    </tr>\n",
       "    <tr>\n",
       "      <th>3</th>\n",
       "      <td>01004</td>\n",
       "      <td>3</td>\n",
       "    </tr>\n",
       "    <tr>\n",
       "      <th>4</th>\n",
       "      <td>01006</td>\n",
       "      <td>2</td>\n",
       "    </tr>\n",
       "  </tbody>\n",
       "</table>\n",
       "</div>"
      ],
      "text/plain": [
       "  Codigo Municipio  Nº Centros Educativos\n",
       "0            01001                      4\n",
       "1            01002                      9\n",
       "2            01003                      2\n",
       "3            01004                      3\n",
       "4            01006                      2"
      ]
     },
     "execution_count": 4,
     "metadata": {},
     "output_type": "execute_result"
    }
   ],
   "source": [
    "CentrosEducativos11.rename({'codigo ine' : 'Codigo Municipio', 'Denominación genérica' : 'Nº Centros Educativos'},\\\n",
    "                           axis = 1, inplace = True )\n",
    "\n",
    "CentrosEducativos11.head()"
   ]
  },
  {
   "cell_type": "code",
   "execution_count": 5,
   "id": "72f6e074",
   "metadata": {},
   "outputs": [],
   "source": [
    "CentrosEducativos11.to_csv('11_Output_Centros_Educativos_11.csv', header = True, index = False)"
   ]
  }
 ],
 "metadata": {
  "kernelspec": {
   "display_name": "Python 3 (ipykernel)",
   "language": "python",
   "name": "python3"
  },
  "language_info": {
   "codemirror_mode": {
    "name": "ipython",
    "version": 3
   },
   "file_extension": ".py",
   "mimetype": "text/x-python",
   "name": "python",
   "nbconvert_exporter": "python",
   "pygments_lexer": "ipython3",
   "version": "3.8.11"
  }
 },
 "nbformat": 4,
 "nbformat_minor": 5
}
