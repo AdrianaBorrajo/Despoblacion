{
 "cells": [
  {
   "cell_type": "markdown",
   "id": "9fca130d",
   "metadata": {},
   "source": [
    "## Edad medida de los edificios 2011\n",
    "En este notebook procesaremos un .xlsx con la edad media de los edificios desagregado por municipios.  \n",
    "\n",
    "Obtendremos un DataFrame con la siguiente información:\n",
    "- Codigo Municipio\n",
    "- Edad Media Edificios"
   ]
  },
  {
   "cell_type": "code",
   "execution_count": 1,
   "id": "581adf57",
   "metadata": {},
   "outputs": [],
   "source": [
    "import pandas as pd\n",
    "import numpy as np"
   ]
  },
  {
   "cell_type": "code",
   "execution_count": 2,
   "id": "01dc37d6",
   "metadata": {},
   "outputs": [
    {
     "data": {
      "text/html": [
       "<div>\n",
       "<style scoped>\n",
       "    .dataframe tbody tr th:only-of-type {\n",
       "        vertical-align: middle;\n",
       "    }\n",
       "\n",
       "    .dataframe tbody tr th {\n",
       "        vertical-align: top;\n",
       "    }\n",
       "\n",
       "    .dataframe thead th {\n",
       "        text-align: right;\n",
       "    }\n",
       "</style>\n",
       "<table border=\"1\" class=\"dataframe\">\n",
       "  <thead>\n",
       "    <tr style=\"text-align: right;\">\n",
       "      <th></th>\n",
       "      <th>Código</th>\n",
       "      <th>Etiqueta</th>\n",
       "      <th>Edad media de los edificios 2011</th>\n",
       "    </tr>\n",
       "  </thead>\n",
       "  <tbody>\n",
       "    <tr>\n",
       "      <th>0</th>\n",
       "      <td>01001</td>\n",
       "      <td>Alegría-Dulantzi</td>\n",
       "      <td>N/A - resultado no disponible</td>\n",
       "    </tr>\n",
       "    <tr>\n",
       "      <th>1</th>\n",
       "      <td>01002</td>\n",
       "      <td>Amurrio</td>\n",
       "      <td>N/A - resultado no disponible</td>\n",
       "    </tr>\n",
       "    <tr>\n",
       "      <th>2</th>\n",
       "      <td>01003</td>\n",
       "      <td>Aramaio</td>\n",
       "      <td>N/A - resultado no disponible</td>\n",
       "    </tr>\n",
       "    <tr>\n",
       "      <th>3</th>\n",
       "      <td>01004</td>\n",
       "      <td>Artziniega</td>\n",
       "      <td>N/A - resultado no disponible</td>\n",
       "    </tr>\n",
       "    <tr>\n",
       "      <th>4</th>\n",
       "      <td>01006</td>\n",
       "      <td>Armiñón</td>\n",
       "      <td>N/A - resultado no disponible</td>\n",
       "    </tr>\n",
       "  </tbody>\n",
       "</table>\n",
       "</div>"
      ],
      "text/plain": [
       "  Código          Etiqueta Edad media de los edificios 2011\n",
       "0  01001  Alegría-Dulantzi    N/A - resultado no disponible\n",
       "1  01002           Amurrio    N/A - resultado no disponible\n",
       "2  01003           Aramaio    N/A - resultado no disponible\n",
       "3  01004        Artziniega    N/A - resultado no disponible\n",
       "4  01006           Armiñón    N/A - resultado no disponible"
      ]
     },
     "execution_count": 2,
     "metadata": {},
     "output_type": "execute_result"
    }
   ],
   "source": [
    "EdadEdificios11 = pd.read_excel('27_Input_Edad_Edificios_11.xlsx', dtype = {'Código' : str})\n",
    "\n",
    "EdadEdificios11.head()"
   ]
  },
  {
   "cell_type": "code",
   "execution_count": 3,
   "id": "5b180ea5",
   "metadata": {},
   "outputs": [
    {
     "data": {
      "text/html": [
       "<div>\n",
       "<style scoped>\n",
       "    .dataframe tbody tr th:only-of-type {\n",
       "        vertical-align: middle;\n",
       "    }\n",
       "\n",
       "    .dataframe tbody tr th {\n",
       "        vertical-align: top;\n",
       "    }\n",
       "\n",
       "    .dataframe thead th {\n",
       "        text-align: right;\n",
       "    }\n",
       "</style>\n",
       "<table border=\"1\" class=\"dataframe\">\n",
       "  <thead>\n",
       "    <tr style=\"text-align: right;\">\n",
       "      <th></th>\n",
       "      <th>Codigo Municipio</th>\n",
       "      <th>Edad Media Edificios</th>\n",
       "    </tr>\n",
       "  </thead>\n",
       "  <tbody>\n",
       "    <tr>\n",
       "      <th>0</th>\n",
       "      <td>01001</td>\n",
       "      <td>N/A - resultado no disponible</td>\n",
       "    </tr>\n",
       "    <tr>\n",
       "      <th>1</th>\n",
       "      <td>01002</td>\n",
       "      <td>N/A - resultado no disponible</td>\n",
       "    </tr>\n",
       "    <tr>\n",
       "      <th>2</th>\n",
       "      <td>01003</td>\n",
       "      <td>N/A - resultado no disponible</td>\n",
       "    </tr>\n",
       "    <tr>\n",
       "      <th>3</th>\n",
       "      <td>01004</td>\n",
       "      <td>N/A - resultado no disponible</td>\n",
       "    </tr>\n",
       "    <tr>\n",
       "      <th>4</th>\n",
       "      <td>01006</td>\n",
       "      <td>N/A - resultado no disponible</td>\n",
       "    </tr>\n",
       "  </tbody>\n",
       "</table>\n",
       "</div>"
      ],
      "text/plain": [
       "  Codigo Municipio           Edad Media Edificios\n",
       "0            01001  N/A - resultado no disponible\n",
       "1            01002  N/A - resultado no disponible\n",
       "2            01003  N/A - resultado no disponible\n",
       "3            01004  N/A - resultado no disponible\n",
       "4            01006  N/A - resultado no disponible"
      ]
     },
     "execution_count": 3,
     "metadata": {},
     "output_type": "execute_result"
    }
   ],
   "source": [
    "EdadEdificios11.drop(['Etiqueta'], axis = 1, inplace = True)\n",
    "EdadEdificios11.rename({'Código' : 'Codigo Municipio',\n",
    "                        'Edad media de los edificios 2011' : 'Edad Media Edificios'}, axis = 1, inplace = True)\n",
    "\n",
    "EdadEdificios11.head()"
   ]
  },
  {
   "cell_type": "markdown",
   "id": "ed7cbf7b",
   "metadata": {},
   "source": [
    "Algunas variables toman el valor: N/A - resultado no disponible.  \n",
    "Lo sustituimos por NaN:"
   ]
  },
  {
   "cell_type": "code",
   "execution_count": 4,
   "id": "1d52bb39",
   "metadata": {},
   "outputs": [],
   "source": [
    "EdadEdificios11.replace('N/A - resultado no disponible', np.nan, inplace = True)"
   ]
  },
  {
   "cell_type": "code",
   "execution_count": 5,
   "id": "0557c7b3",
   "metadata": {},
   "outputs": [],
   "source": [
    "EdadEdificios11.to_csv('27_Output_Edad_Edificios_11.csv', header = True, index = False)"
   ]
  }
 ],
 "metadata": {
  "kernelspec": {
   "display_name": "Python 3 (ipykernel)",
   "language": "python",
   "name": "python3"
  },
  "language_info": {
   "codemirror_mode": {
    "name": "ipython",
    "version": 3
   },
   "file_extension": ".py",
   "mimetype": "text/x-python",
   "name": "python",
   "nbconvert_exporter": "python",
   "pygments_lexer": "ipython3",
   "version": "3.8.11"
  }
 },
 "nbformat": 4,
 "nbformat_minor": 5
}
