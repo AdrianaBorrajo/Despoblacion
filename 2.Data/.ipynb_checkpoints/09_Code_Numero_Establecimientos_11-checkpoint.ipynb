{
 "cells": [
  {
   "cell_type": "markdown",
   "id": "2b68b9e8",
   "metadata": {},
   "source": [
    "## Numero establecimientos 2011\n",
    "En este notebook procesaremos un .xlsx con el número de establecimientos desagregado por municipios y por tipos de negocio: agricultura, industria, construcción y servicios. \n",
    "\n",
    "Obtendremos un DataFrame con la siguiente información:\n",
    "- Codigo Municipio\n",
    "- Nº establecimientos Agricultura\n",
    "- Nº establecimientos Industria\n",
    "- Nº establecimientos Construccion\n",
    "- Nº establecimientos Servicios\n"
   ]
  },
  {
   "cell_type": "code",
   "execution_count": 1,
   "id": "d073fdbb",
   "metadata": {},
   "outputs": [],
   "source": [
    "import pandas as pd\n",
    "import numpy as np"
   ]
  },
  {
   "cell_type": "code",
   "execution_count": 2,
   "id": "b95ed8ae",
   "metadata": {},
   "outputs": [
    {
     "data": {
      "text/html": [
       "<div>\n",
       "<style scoped>\n",
       "    .dataframe tbody tr th:only-of-type {\n",
       "        vertical-align: middle;\n",
       "    }\n",
       "\n",
       "    .dataframe tbody tr th {\n",
       "        vertical-align: top;\n",
       "    }\n",
       "\n",
       "    .dataframe thead th {\n",
       "        text-align: right;\n",
       "    }\n",
       "</style>\n",
       "<table border=\"1\" class=\"dataframe\">\n",
       "  <thead>\n",
       "    <tr style=\"text-align: right;\">\n",
       "      <th></th>\n",
       "      <th>Código</th>\n",
       "      <th>Etiqueta</th>\n",
       "      <th>Agricultura</th>\n",
       "      <th>Industria</th>\n",
       "      <th>Construcción</th>\n",
       "      <th>Servicios</th>\n",
       "    </tr>\n",
       "  </thead>\n",
       "  <tbody>\n",
       "    <tr>\n",
       "      <th>0</th>\n",
       "      <td>1001</td>\n",
       "      <td>Alegría-Dulantzi</td>\n",
       "      <td>0</td>\n",
       "      <td>17</td>\n",
       "      <td>12</td>\n",
       "      <td>62</td>\n",
       "    </tr>\n",
       "    <tr>\n",
       "      <th>1</th>\n",
       "      <td>1002</td>\n",
       "      <td>Amurrio</td>\n",
       "      <td>8</td>\n",
       "      <td>61</td>\n",
       "      <td>33</td>\n",
       "      <td>261</td>\n",
       "    </tr>\n",
       "    <tr>\n",
       "      <th>2</th>\n",
       "      <td>1003</td>\n",
       "      <td>Aramaio</td>\n",
       "      <td>3</td>\n",
       "      <td>4</td>\n",
       "      <td>3</td>\n",
       "      <td>12</td>\n",
       "    </tr>\n",
       "    <tr>\n",
       "      <th>3</th>\n",
       "      <td>1004</td>\n",
       "      <td>Artziniega</td>\n",
       "      <td>1</td>\n",
       "      <td>10</td>\n",
       "      <td>5</td>\n",
       "      <td>31</td>\n",
       "    </tr>\n",
       "    <tr>\n",
       "      <th>4</th>\n",
       "      <td>1006</td>\n",
       "      <td>Armiñón</td>\n",
       "      <td>0</td>\n",
       "      <td>3</td>\n",
       "      <td>0</td>\n",
       "      <td>4</td>\n",
       "    </tr>\n",
       "  </tbody>\n",
       "</table>\n",
       "</div>"
      ],
      "text/plain": [
       "   Código          Etiqueta Agricultura Industria Construcción  Servicios\n",
       "0    1001  Alegría-Dulantzi           0        17            12        62\n",
       "1    1002           Amurrio           8        61            33       261\n",
       "2    1003           Aramaio           3         4             3        12\n",
       "3    1004        Artziniega           1        10             5        31\n",
       "4    1006           Armiñón           0         3             0         4"
      ]
     },
     "execution_count": 2,
     "metadata": {},
     "output_type": "execute_result"
    }
   ],
   "source": [
    "NumeroEstablecimientos11 = pd.read_excel('09_Input_Numero_Establecimientos_11.xlsx', dtype={'Codigo' : str})\n",
    "NumeroEstablecimientos11.head()"
   ]
  },
  {
   "cell_type": "code",
   "execution_count": 3,
   "id": "9e6f1761",
   "metadata": {},
   "outputs": [
    {
     "data": {
      "text/html": [
       "<div>\n",
       "<style scoped>\n",
       "    .dataframe tbody tr th:only-of-type {\n",
       "        vertical-align: middle;\n",
       "    }\n",
       "\n",
       "    .dataframe tbody tr th {\n",
       "        vertical-align: top;\n",
       "    }\n",
       "\n",
       "    .dataframe thead th {\n",
       "        text-align: right;\n",
       "    }\n",
       "</style>\n",
       "<table border=\"1\" class=\"dataframe\">\n",
       "  <thead>\n",
       "    <tr style=\"text-align: right;\">\n",
       "      <th></th>\n",
       "      <th>Codigo Municipio</th>\n",
       "      <th>Nº Establecimientos Agricultura</th>\n",
       "      <th>Nº Establecimientos Industria</th>\n",
       "      <th>Nº Establecimientos Construccion</th>\n",
       "      <th>Nº Establecimientos Servicios</th>\n",
       "    </tr>\n",
       "  </thead>\n",
       "  <tbody>\n",
       "    <tr>\n",
       "      <th>0</th>\n",
       "      <td>1001</td>\n",
       "      <td>0</td>\n",
       "      <td>17</td>\n",
       "      <td>12</td>\n",
       "      <td>62</td>\n",
       "    </tr>\n",
       "    <tr>\n",
       "      <th>1</th>\n",
       "      <td>1002</td>\n",
       "      <td>8</td>\n",
       "      <td>61</td>\n",
       "      <td>33</td>\n",
       "      <td>261</td>\n",
       "    </tr>\n",
       "    <tr>\n",
       "      <th>2</th>\n",
       "      <td>1003</td>\n",
       "      <td>3</td>\n",
       "      <td>4</td>\n",
       "      <td>3</td>\n",
       "      <td>12</td>\n",
       "    </tr>\n",
       "    <tr>\n",
       "      <th>3</th>\n",
       "      <td>1004</td>\n",
       "      <td>1</td>\n",
       "      <td>10</td>\n",
       "      <td>5</td>\n",
       "      <td>31</td>\n",
       "    </tr>\n",
       "    <tr>\n",
       "      <th>4</th>\n",
       "      <td>1006</td>\n",
       "      <td>0</td>\n",
       "      <td>3</td>\n",
       "      <td>0</td>\n",
       "      <td>4</td>\n",
       "    </tr>\n",
       "  </tbody>\n",
       "</table>\n",
       "</div>"
      ],
      "text/plain": [
       "   Codigo Municipio Nº Establecimientos Agricultura  \\\n",
       "0              1001                               0   \n",
       "1              1002                               8   \n",
       "2              1003                               3   \n",
       "3              1004                               1   \n",
       "4              1006                               0   \n",
       "\n",
       "  Nº Establecimientos Industria Nº Establecimientos Construccion  \\\n",
       "0                            17                               12   \n",
       "1                            61                               33   \n",
       "2                             4                                3   \n",
       "3                            10                                5   \n",
       "4                             3                                0   \n",
       "\n",
       "  Nº Establecimientos Servicios  \n",
       "0                            62  \n",
       "1                           261  \n",
       "2                            12  \n",
       "3                            31  \n",
       "4                             4  "
      ]
     },
     "execution_count": 3,
     "metadata": {},
     "output_type": "execute_result"
    }
   ],
   "source": [
    "NumeroEstablecimientos11.drop('Etiqueta', axis = 1, inplace = True)\n",
    "NumeroEstablecimientos11.rename({'Código' : 'Codigo Municipio',\n",
    "                                'Agricultura' : 'Nº Establecimientos Agricultura',\n",
    "                                'Industria' : 'Nº Establecimientos Industria',\n",
    "                                'Construcción ' : 'Nº Establecimientos Construccion', \n",
    "                                'Servicios' : 'Nº Establecimientos Servicios'}, axis = 1, inplace = True)\n",
    "NumeroEstablecimientos11.head()"
   ]
  },
  {
   "cell_type": "markdown",
   "id": "501bc570",
   "metadata": {},
   "source": [
    "Algunas variables toman el valor: N/A - resultado no disponible  \n",
    "Lo substituimos por NaN:"
   ]
  },
  {
   "cell_type": "code",
   "execution_count": 4,
   "id": "ce967063",
   "metadata": {},
   "outputs": [],
   "source": [
    "NumeroEstablecimientos11.replace('N/A - resultado no disponible', np.nan, inplace = True)"
   ]
  },
  {
   "cell_type": "code",
   "execution_count": 5,
   "id": "4bc9b0a5",
   "metadata": {},
   "outputs": [],
   "source": [
    "NumeroEstablecimientos11.to_csv('09_Output_Numero_Establecimientos_11.csv', header = True, index = False)"
   ]
  }
 ],
 "metadata": {
  "kernelspec": {
   "display_name": "Python 3 (ipykernel)",
   "language": "python",
   "name": "python3"
  },
  "language_info": {
   "codemirror_mode": {
    "name": "ipython",
    "version": 3
   },
   "file_extension": ".py",
   "mimetype": "text/x-python",
   "name": "python",
   "nbconvert_exporter": "python",
   "pygments_lexer": "ipython3",
   "version": "3.8.11"
  }
 },
 "nbformat": 4,
 "nbformat_minor": 5
}
