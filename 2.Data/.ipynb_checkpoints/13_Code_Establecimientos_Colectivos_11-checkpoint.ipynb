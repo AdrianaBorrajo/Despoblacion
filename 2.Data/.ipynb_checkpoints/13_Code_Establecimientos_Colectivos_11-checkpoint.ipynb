{
 "cells": [
  {
   "cell_type": "markdown",
   "id": "15556bba",
   "metadata": {},
   "source": [
    "## Establecimientos colectivos 2011\n",
    "\n",
    "En este notebook procesaremos un JSON que contiene el número de residencias de personas mayores, instituciones religiosas y militares desagregado por municipios.  \n",
    "\n",
    "Obtendremos un DataFrame con la siguiente información:\n",
    "- Codigo Municipio\n",
    "- Nº Residencias Mayores\n",
    "- Nº Instituciones Religiosas y Militares"
   ]
  },
  {
   "cell_type": "code",
   "execution_count": 1,
   "id": "b3d49ea7",
   "metadata": {},
   "outputs": [],
   "source": [
    "import pandas as pd\n",
    "import requests"
   ]
  },
  {
   "cell_type": "code",
   "execution_count": 2,
   "id": "c09407b6",
   "metadata": {},
   "outputs": [],
   "source": [
    "Path = 'https://servicios.ine.es/wstempus/js/es/DATOS_TABLA//t20/e244/colectivos/p05/l0/1mun00.px?tip=AM&p=2&'\n",
    "\n",
    "json_request = requests.get(Path).json()"
   ]
  },
  {
   "cell_type": "code",
   "execution_count": 3,
   "id": "fbcb61cc",
   "metadata": {},
   "outputs": [],
   "source": [
    "CodResiList = list()\n",
    "NumResiList = list()\n",
    "CodReliList = list()\n",
    "NumReliList = list()"
   ]
  },
  {
   "cell_type": "code",
   "execution_count": 4,
   "id": "852b1019",
   "metadata": {},
   "outputs": [],
   "source": [
    "for dato in json_request: \n",
    "    for i in range(0,len(dato['Data'])):\n",
    "        if 'Residencias de personas mayores' in dato['Nombre']:\n",
    "            CodResiList.append(dato['MetaData'][0]['Codigo'])\n",
    "            NumResiList.append(dato['Data'][i]['Valor'])\n",
    "        elif 'Instituciones religiosas o militares' in dato['Nombre']:\n",
    "            CodReliList.append(dato['MetaData'][0]['Codigo'])\n",
    "            NumReliList.append(dato['Data'][i]['Valor'])       "
   ]
  },
  {
   "cell_type": "code",
   "execution_count": 5,
   "id": "51afe932",
   "metadata": {},
   "outputs": [],
   "source": [
    "ResidenciasMayores11 = pd.DataFrame({\n",
    "        'Codigo Municipio' : CodResiList,\n",
    "        'Nº Residencias Mayores': NumResiList\n",
    "    })\n",
    "\n",
    "InstitucionesReliMili11 = pd.DataFrame({\n",
    "        'Codigo Municipio' : CodReliList,\n",
    "        'Nº Instituciones Religiosas y Militares': NumReliList\n",
    "    })"
   ]
  },
  {
   "cell_type": "code",
   "execution_count": 6,
   "id": "075b24ce",
   "metadata": {},
   "outputs": [
    {
     "data": {
      "text/html": [
       "<div>\n",
       "<style scoped>\n",
       "    .dataframe tbody tr th:only-of-type {\n",
       "        vertical-align: middle;\n",
       "    }\n",
       "\n",
       "    .dataframe tbody tr th {\n",
       "        vertical-align: top;\n",
       "    }\n",
       "\n",
       "    .dataframe thead th {\n",
       "        text-align: right;\n",
       "    }\n",
       "</style>\n",
       "<table border=\"1\" class=\"dataframe\">\n",
       "  <thead>\n",
       "    <tr style=\"text-align: right;\">\n",
       "      <th></th>\n",
       "      <th>Codigo Municipio</th>\n",
       "      <th>Nº Residencias Mayores</th>\n",
       "      <th>Nº Instituciones Religiosas y Militares</th>\n",
       "    </tr>\n",
       "  </thead>\n",
       "  <tbody>\n",
       "    <tr>\n",
       "      <th>0</th>\n",
       "      <td>00000</td>\n",
       "      <td>4378.0</td>\n",
       "      <td>1486.0</td>\n",
       "    </tr>\n",
       "    <tr>\n",
       "      <th>1</th>\n",
       "      <td>44001</td>\n",
       "      <td>NaN</td>\n",
       "      <td>NaN</td>\n",
       "    </tr>\n",
       "    <tr>\n",
       "      <th>2</th>\n",
       "      <td>40001</td>\n",
       "      <td>NaN</td>\n",
       "      <td>NaN</td>\n",
       "    </tr>\n",
       "    <tr>\n",
       "      <th>3</th>\n",
       "      <td>10001</td>\n",
       "      <td>NaN</td>\n",
       "      <td>NaN</td>\n",
       "    </tr>\n",
       "    <tr>\n",
       "      <th>4</th>\n",
       "      <td>27001</td>\n",
       "      <td>NaN</td>\n",
       "      <td>NaN</td>\n",
       "    </tr>\n",
       "  </tbody>\n",
       "</table>\n",
       "</div>"
      ],
      "text/plain": [
       "  Codigo Municipio  Nº Residencias Mayores  \\\n",
       "0            00000                  4378.0   \n",
       "1            44001                     NaN   \n",
       "2            40001                     NaN   \n",
       "3            10001                     NaN   \n",
       "4            27001                     NaN   \n",
       "\n",
       "   Nº Instituciones Religiosas y Militares  \n",
       "0                                   1486.0  \n",
       "1                                      NaN  \n",
       "2                                      NaN  \n",
       "3                                      NaN  \n",
       "4                                      NaN  "
      ]
     },
     "execution_count": 6,
     "metadata": {},
     "output_type": "execute_result"
    }
   ],
   "source": [
    "EstablecimientosCoelctivos11 = pd.concat([ResidenciasMayores11, InstitucionesReliMili11], axis = 1)\n",
    "\n",
    "EstablecimientosCoelctivos11 = EstablecimientosCoelctivos11.\\\n",
    "                               loc[:, ~EstablecimientosCoelctivos11.columns.duplicated()]\n",
    "\n",
    "EstablecimientosCoelctivos11.head()"
   ]
  },
  {
   "cell_type": "code",
   "execution_count": 7,
   "id": "7860efb8",
   "metadata": {},
   "outputs": [],
   "source": [
    "EstablecimientosCoelctivos11.to_csv('13_Output_Establecimientos_Colectivos_11.csv', header = True, index = False)"
   ]
  }
 ],
 "metadata": {
  "kernelspec": {
   "display_name": "Python 3 (ipykernel)",
   "language": "python",
   "name": "python3"
  },
  "language_info": {
   "codemirror_mode": {
    "name": "ipython",
    "version": 3
   },
   "file_extension": ".py",
   "mimetype": "text/x-python",
   "name": "python",
   "nbconvert_exporter": "python",
   "pygments_lexer": "ipython3",
   "version": "3.8.11"
  }
 },
 "nbformat": 4,
 "nbformat_minor": 5
}
