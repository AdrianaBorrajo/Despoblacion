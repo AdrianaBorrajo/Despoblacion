{
 "cells": [
  {
   "cell_type": "markdown",
   "id": "15556bba",
   "metadata": {},
   "source": [
    "## Número de viviendas 2011\n",
    "\n",
    "En este notebook procesaremos un JSON que contiene el número de viviendas por municipio.\n",
    "\n",
    "Obtendremos un DataFrame con la siguiente información:\n",
    "- Codigo Municipio\n",
    "- Nº viviendas"
   ]
  },
  {
   "cell_type": "code",
   "execution_count": 1,
   "id": "b3d49ea7",
   "metadata": {},
   "outputs": [],
   "source": [
    "import pandas as pd\n",
    "import requests"
   ]
  },
  {
   "cell_type": "code",
   "execution_count": 2,
   "id": "c09407b6",
   "metadata": {},
   "outputs": [],
   "source": [
    "Path = 'https://servicios.ine.es/wstempus/js/es/DATOS_TABLA//t20/e244/viviendas/p06/l0/9mun00.px?tip=AM&p=2&'\n",
    "\n",
    "json_request = requests.get(Path).json()"
   ]
  },
  {
   "cell_type": "code",
   "execution_count": 3,
   "id": "fbcb61cc",
   "metadata": {},
   "outputs": [],
   "source": [
    "CodViviList = list()\n",
    "ViviList = list()"
   ]
  },
  {
   "cell_type": "code",
   "execution_count": 4,
   "id": "852b1019",
   "metadata": {},
   "outputs": [],
   "source": [
    "for dato in json_request: \n",
    "    for i in range(0,len(dato['Data'])):\n",
    "        if 'viviendas familiares' in dato['Nombre']:\n",
    "            CodViviList.append(dato['MetaData'][0]['Codigo'])\n",
    "            ViviList.append(dato['Data'][i]['Valor'])    "
   ]
  },
  {
   "cell_type": "code",
   "execution_count": 5,
   "id": "51afe932",
   "metadata": {},
   "outputs": [
    {
     "data": {
      "text/html": [
       "<div>\n",
       "<style scoped>\n",
       "    .dataframe tbody tr th:only-of-type {\n",
       "        vertical-align: middle;\n",
       "    }\n",
       "\n",
       "    .dataframe tbody tr th {\n",
       "        vertical-align: top;\n",
       "    }\n",
       "\n",
       "    .dataframe thead th {\n",
       "        text-align: right;\n",
       "    }\n",
       "</style>\n",
       "<table border=\"1\" class=\"dataframe\">\n",
       "  <thead>\n",
       "    <tr style=\"text-align: right;\">\n",
       "      <th></th>\n",
       "      <th>Codigo Municipio</th>\n",
       "      <th>Nº viviendas</th>\n",
       "    </tr>\n",
       "  </thead>\n",
       "  <tbody>\n",
       "    <tr>\n",
       "      <th>0</th>\n",
       "      <td>00000</td>\n",
       "      <td>25208623.0</td>\n",
       "    </tr>\n",
       "    <tr>\n",
       "      <th>1</th>\n",
       "      <td>44001</td>\n",
       "      <td>105.0</td>\n",
       "    </tr>\n",
       "    <tr>\n",
       "      <th>2</th>\n",
       "      <td>40001</td>\n",
       "      <td>543.0</td>\n",
       "    </tr>\n",
       "    <tr>\n",
       "      <th>3</th>\n",
       "      <td>10001</td>\n",
       "      <td>216.0</td>\n",
       "    </tr>\n",
       "    <tr>\n",
       "      <th>4</th>\n",
       "      <td>27001</td>\n",
       "      <td>1655.0</td>\n",
       "    </tr>\n",
       "  </tbody>\n",
       "</table>\n",
       "</div>"
      ],
      "text/plain": [
       "  Codigo Municipio  Nº viviendas\n",
       "0            00000    25208623.0\n",
       "1            44001         105.0\n",
       "2            40001         543.0\n",
       "3            10001         216.0\n",
       "4            27001        1655.0"
      ]
     },
     "execution_count": 5,
     "metadata": {},
     "output_type": "execute_result"
    }
   ],
   "source": [
    "Viviendas11 = pd.DataFrame({\n",
    "        'Codigo Municipio' : CodViviList,\n",
    "        'Nº viviendas': ViviList\n",
    "    })\n",
    "\n",
    "Viviendas11.head()"
   ]
  },
  {
   "cell_type": "code",
   "execution_count": 6,
   "id": "7860efb8",
   "metadata": {},
   "outputs": [],
   "source": [
    "Viviendas11.to_csv('17_Output_Viviendas_11.csv', header = True, index = False)"
   ]
  }
 ],
 "metadata": {
  "kernelspec": {
   "display_name": "Python 3 (ipykernel)",
   "language": "python",
   "name": "python3"
  },
  "language_info": {
   "codemirror_mode": {
    "name": "ipython",
    "version": 3
   },
   "file_extension": ".py",
   "mimetype": "text/x-python",
   "name": "python",
   "nbconvert_exporter": "python",
   "pygments_lexer": "ipython3",
   "version": "3.8.11"
  }
 },
 "nbformat": 4,
 "nbformat_minor": 5
}
