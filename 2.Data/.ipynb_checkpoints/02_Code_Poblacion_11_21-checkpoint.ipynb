{
 "cells": [
  {
   "cell_type": "markdown",
   "id": "15556bba",
   "metadata": {},
   "source": [
    "## Población 2011 y 2021\n",
    "\n",
    "En este notebook procesaremos 52 JSON, uno por cada provincia y ciudad autónoma.  \n",
    "Cada uno de ellos contiene el total de población por municipios así como la segmentación por sexo. "
   ]
  },
  {
   "cell_type": "code",
   "execution_count": 1,
   "id": "b3d49ea7",
   "metadata": {},
   "outputs": [],
   "source": [
    "import pandas as pd\n",
    "import requests"
   ]
  },
  {
   "cell_type": "markdown",
   "id": "771f0855",
   "metadata": {},
   "source": [
    "Creamos una lista con el número de tabla del INE correspondiente a cada provincia y ciudad autónoma:"
   ]
  },
  {
   "cell_type": "code",
   "execution_count": 2,
   "id": "b6f591d8",
   "metadata": {},
   "outputs": [],
   "source": [
    "CodTablas = [2854, 2855, 2856, 2857, 2858, 2859, 2860, 2861, 2862, 2863, 2864, 2865, 2866, 2868, 2869, 2870,2871,\n",
    "2872, 2873,  2874, 2875, 2876, 2877, 2878, 2879, 2880, 2881, 2882, 2883, 2884, 2885, 2886, 2888, 2889, 2890, 2891, \n",
    "2892, 2893, 2894, 2895, 2896, 2899, 2900, 2901,2902, 2903, 2904, 2905, 2906, 2907,  2908, 2909]"
   ]
  },
  {
   "cell_type": "code",
   "execution_count": 3,
   "id": "c09407b6",
   "metadata": {},
   "outputs": [],
   "source": [
    "def Ine(ine_code):\n",
    "    \n",
    "    Path = 'https://servicios.ine.es/wstempus/js/es/DATOS_TABLA/{cod_serie}?tip=AM&'\n",
    "    Path = Path.format(cod_serie=ine_code)\n",
    "    json_request = requests.get(Path).json()\n",
    "    \n",
    "    return json_request"
   ]
  },
  {
   "cell_type": "markdown",
   "id": "c3c19018",
   "metadata": {},
   "source": [
    "### Población 2011\n",
    " \n",
    "Obtendremos un DataFrame con la siguiente información:\n",
    "- Codigo Municipio\n",
    "- Poblacion Total\n",
    "- Poblacion Hombres\n",
    "- Poblacion Mujeres"
   ]
  },
  {
   "cell_type": "code",
   "execution_count": 4,
   "id": "fbcb61cc",
   "metadata": {},
   "outputs": [],
   "source": [
    "CodHomList = list()\n",
    "PobHomList = list()\n",
    "PobMujList = list()\n",
    "CodMujList = list()\n",
    "PobTotList = list()\n",
    "CodTolList = list()"
   ]
  },
  {
   "cell_type": "markdown",
   "id": "55f3bbae",
   "metadata": {},
   "source": [
    "Nos quedamos solo con el año 2011:"
   ]
  },
  {
   "cell_type": "code",
   "execution_count": 5,
   "id": "852b1019",
   "metadata": {},
   "outputs": [],
   "source": [
    "for codigo in CodTablas:\n",
    "    datos = Ine(codigo)\n",
    "    for dato in datos: \n",
    "        for i in range(0,len(dato['Data'])):\n",
    "            if  dato['Data'][i]['Anyo'] == 2011 and 'Hombres' in dato['Nombre']:\n",
    "                PobHomList.append(dato['Data'][i]['Valor'])\n",
    "                CodHomList.append(dato['MetaData'][0]['Codigo'])\n",
    "            elif dato['Data'][i]['Anyo'] == 2011 and 'Mujeres' in dato['Nombre']:\n",
    "                PobMujList.append(dato['Data'][i]['Valor'])\n",
    "                CodMujList.append(dato['MetaData'][0]['Codigo'])\n",
    "            elif dato['Data'][i]['Anyo'] == 2011 and ('Hombres'and'Mujeres') not in dato['Nombre']:\n",
    "                PobTotList.append(dato['Data'][i]['Valor'])\n",
    "                CodTolList.append(dato['MetaData'][0]['Codigo'])            "
   ]
  },
  {
   "cell_type": "code",
   "execution_count": 6,
   "id": "51afe932",
   "metadata": {},
   "outputs": [],
   "source": [
    "PoblacionHombres = pd.DataFrame({\n",
    "        'Codigo Municipio' : CodHomList,\n",
    "        'Poblacion Hombre': PobHomList\n",
    "    })\n",
    "\n",
    "PoblacionMujeres = pd.DataFrame({\n",
    "        'Codigo Municipio' : CodMujList,\n",
    "        'Poblacion Mujer': PobMujList\n",
    "    })\n",
    "\n",
    "PoblacionTotal = pd.DataFrame({\n",
    "        'Codigo Municipio' : CodTolList,\n",
    "        'Poblacion Total': PobTotList\n",
    "    })"
   ]
  },
  {
   "cell_type": "code",
   "execution_count": 7,
   "id": "075b24ce",
   "metadata": {},
   "outputs": [
    {
     "data": {
      "text/html": [
       "<div>\n",
       "<style scoped>\n",
       "    .dataframe tbody tr th:only-of-type {\n",
       "        vertical-align: middle;\n",
       "    }\n",
       "\n",
       "    .dataframe tbody tr th {\n",
       "        vertical-align: top;\n",
       "    }\n",
       "\n",
       "    .dataframe thead th {\n",
       "        text-align: right;\n",
       "    }\n",
       "</style>\n",
       "<table border=\"1\" class=\"dataframe\">\n",
       "  <thead>\n",
       "    <tr style=\"text-align: right;\">\n",
       "      <th></th>\n",
       "      <th>Codigo Municipio</th>\n",
       "      <th>Poblacion Total</th>\n",
       "      <th>Poblacion Hombre</th>\n",
       "      <th>Poblacion Mujer</th>\n",
       "    </tr>\n",
       "  </thead>\n",
       "  <tbody>\n",
       "    <tr>\n",
       "      <th>0</th>\n",
       "      <td>01</td>\n",
       "      <td>319227.0</td>\n",
       "      <td>159041.0</td>\n",
       "      <td>160186.0</td>\n",
       "    </tr>\n",
       "    <tr>\n",
       "      <th>1</th>\n",
       "      <td>01001</td>\n",
       "      <td>2803.0</td>\n",
       "      <td>1466.0</td>\n",
       "      <td>1337.0</td>\n",
       "    </tr>\n",
       "    <tr>\n",
       "      <th>2</th>\n",
       "      <td>01002</td>\n",
       "      <td>10014.0</td>\n",
       "      <td>5030.0</td>\n",
       "      <td>4984.0</td>\n",
       "    </tr>\n",
       "    <tr>\n",
       "      <th>3</th>\n",
       "      <td>01049</td>\n",
       "      <td>168.0</td>\n",
       "      <td>86.0</td>\n",
       "      <td>82.0</td>\n",
       "    </tr>\n",
       "    <tr>\n",
       "      <th>4</th>\n",
       "      <td>01003</td>\n",
       "      <td>1496.0</td>\n",
       "      <td>784.0</td>\n",
       "      <td>712.0</td>\n",
       "    </tr>\n",
       "  </tbody>\n",
       "</table>\n",
       "</div>"
      ],
      "text/plain": [
       "  Codigo Municipio  Poblacion Total  Poblacion Hombre  Poblacion Mujer\n",
       "0               01         319227.0          159041.0         160186.0\n",
       "1            01001           2803.0            1466.0           1337.0\n",
       "2            01002          10014.0            5030.0           4984.0\n",
       "3            01049            168.0              86.0             82.0\n",
       "4            01003           1496.0             784.0            712.0"
      ]
     },
     "execution_count": 7,
     "metadata": {},
     "output_type": "execute_result"
    }
   ],
   "source": [
    "Poblacion11 = pd.concat([PoblacionTotal, PoblacionHombres, PoblacionMujeres], axis = 1)\n",
    "Poblacion11 = Poblacion11.loc[:, ~Poblacion11.columns.duplicated()]\n",
    "\n",
    "Poblacion11.head()"
   ]
  },
  {
   "cell_type": "code",
   "execution_count": 8,
   "id": "7860efb8",
   "metadata": {},
   "outputs": [],
   "source": [
    "Poblacion11.to_csv('02_Output_Poblacion_11.csv', header = True, index = False)"
   ]
  },
  {
   "cell_type": "markdown",
   "id": "810619d9",
   "metadata": {},
   "source": [
    "### Población 2021\n",
    " \n",
    "Obtendremos un DataFrame con la siguiente información:\n",
    "- Codigo Municipio\n",
    "- Poblacion Total\n",
    "- Poblacion Hombres\n",
    "- Poblacion Mujeres"
   ]
  },
  {
   "cell_type": "code",
   "execution_count": 9,
   "id": "bf75f381",
   "metadata": {},
   "outputs": [],
   "source": [
    "CodHomList = list()\n",
    "PobHomList = list()\n",
    "PobMujList = list()\n",
    "CodMujList = list()\n",
    "PobTotList = list()\n",
    "CodTolList = list()"
   ]
  },
  {
   "cell_type": "markdown",
   "id": "904d4a0e",
   "metadata": {},
   "source": [
    "Nos quedamos solo con el año 2021:"
   ]
  },
  {
   "cell_type": "code",
   "execution_count": 10,
   "id": "ec8a31b6",
   "metadata": {},
   "outputs": [],
   "source": [
    "for codigo in CodTablas:\n",
    "    datos = Ine(codigo)\n",
    "    for dato in datos: \n",
    "        for i in range(0,len(dato['Data'])):\n",
    "            if  dato['Data'][i]['Anyo'] == 2021 and 'Hombres' in dato['Nombre']:\n",
    "                PobHomList.append(dato['Data'][i]['Valor'])\n",
    "                CodHomList.append(dato['MetaData'][0]['Codigo'])\n",
    "            elif dato['Data'][i]['Anyo'] == 2021 and 'Mujeres' in dato['Nombre']:\n",
    "                PobMujList.append(dato['Data'][i]['Valor'])\n",
    "                CodMujList.append(dato['MetaData'][0]['Codigo'])\n",
    "            elif dato['Data'][i]['Anyo'] == 2021 and ('Hombres'and'Mujeres') not in dato['Nombre']:\n",
    "                PobTotList.append(dato['Data'][i]['Valor'])\n",
    "                CodTolList.append(dato['MetaData'][0]['Codigo'])            "
   ]
  },
  {
   "cell_type": "code",
   "execution_count": 11,
   "id": "b1e66300",
   "metadata": {},
   "outputs": [],
   "source": [
    "PoblacionHombres = pd.DataFrame({\n",
    "        'Codigo Municipio' : CodHomList,\n",
    "        'Poblacion Hombre': PobHomList\n",
    "    })\n",
    "\n",
    "PoblacionMujeres = pd.DataFrame({\n",
    "        'Codigo Municipio' : CodMujList,\n",
    "        'Poblacion Mujer': PobMujList\n",
    "    })\n",
    "\n",
    "PoblacionTotal = pd.DataFrame({\n",
    "        'Codigo Municipio' : CodTolList,\n",
    "        'Poblacion Total': PobTotList\n",
    "    })"
   ]
  },
  {
   "cell_type": "code",
   "execution_count": 12,
   "id": "f24227ad",
   "metadata": {},
   "outputs": [
    {
     "data": {
      "text/html": [
       "<div>\n",
       "<style scoped>\n",
       "    .dataframe tbody tr th:only-of-type {\n",
       "        vertical-align: middle;\n",
       "    }\n",
       "\n",
       "    .dataframe tbody tr th {\n",
       "        vertical-align: top;\n",
       "    }\n",
       "\n",
       "    .dataframe thead th {\n",
       "        text-align: right;\n",
       "    }\n",
       "</style>\n",
       "<table border=\"1\" class=\"dataframe\">\n",
       "  <thead>\n",
       "    <tr style=\"text-align: right;\">\n",
       "      <th></th>\n",
       "      <th>Codigo Municipio</th>\n",
       "      <th>Poblacion Total</th>\n",
       "      <th>Poblacion Hombre</th>\n",
       "      <th>Poblacion Mujer</th>\n",
       "    </tr>\n",
       "  </thead>\n",
       "  <tbody>\n",
       "    <tr>\n",
       "      <th>0</th>\n",
       "      <td>01</td>\n",
       "      <td>333626.0</td>\n",
       "      <td>164252.0</td>\n",
       "      <td>169374.0</td>\n",
       "    </tr>\n",
       "    <tr>\n",
       "      <th>1</th>\n",
       "      <td>01001</td>\n",
       "      <td>2925.0</td>\n",
       "      <td>1517.0</td>\n",
       "      <td>1408.0</td>\n",
       "    </tr>\n",
       "    <tr>\n",
       "      <th>2</th>\n",
       "      <td>01002</td>\n",
       "      <td>10307.0</td>\n",
       "      <td>5084.0</td>\n",
       "      <td>5223.0</td>\n",
       "    </tr>\n",
       "    <tr>\n",
       "      <th>3</th>\n",
       "      <td>01049</td>\n",
       "      <td>155.0</td>\n",
       "      <td>94.0</td>\n",
       "      <td>61.0</td>\n",
       "    </tr>\n",
       "    <tr>\n",
       "      <th>4</th>\n",
       "      <td>01003</td>\n",
       "      <td>1456.0</td>\n",
       "      <td>756.0</td>\n",
       "      <td>700.0</td>\n",
       "    </tr>\n",
       "  </tbody>\n",
       "</table>\n",
       "</div>"
      ],
      "text/plain": [
       "  Codigo Municipio  Poblacion Total  Poblacion Hombre  Poblacion Mujer\n",
       "0               01         333626.0          164252.0         169374.0\n",
       "1            01001           2925.0            1517.0           1408.0\n",
       "2            01002          10307.0            5084.0           5223.0\n",
       "3            01049            155.0              94.0             61.0\n",
       "4            01003           1456.0             756.0            700.0"
      ]
     },
     "execution_count": 12,
     "metadata": {},
     "output_type": "execute_result"
    }
   ],
   "source": [
    "Poblacion21 = pd.concat([PoblacionTotal, PoblacionHombres, PoblacionMujeres], axis = 1)\n",
    "Poblacion21 = Poblacion21.loc[:, ~Poblacion21.columns.duplicated()]\n",
    "\n",
    "Poblacion21.head()"
   ]
  },
  {
   "cell_type": "code",
   "execution_count": 13,
   "id": "39911725",
   "metadata": {},
   "outputs": [],
   "source": [
    "Poblacion21.to_csv('02_Output_Poblacion_21.csv', header = True, index = False)"
   ]
  }
 ],
 "metadata": {
  "kernelspec": {
   "display_name": "Python 3 (ipykernel)",
   "language": "python",
   "name": "python3"
  },
  "language_info": {
   "codemirror_mode": {
    "name": "ipython",
    "version": 3
   },
   "file_extension": ".py",
   "mimetype": "text/x-python",
   "name": "python",
   "nbconvert_exporter": "python",
   "pygments_lexer": "ipython3",
   "version": "3.8.11"
  }
 },
 "nbformat": 4,
 "nbformat_minor": 5
}
