{
 "cells": [
  {
   "cell_type": "markdown",
   "id": "15556bba",
   "metadata": {},
   "source": [
    "## Población nacida en el extranjero 2011\n",
    "\n",
    "En este notebook procesaremos un JSON que contiene el número de personas; hombres y mujeres, nacidas en el extranjero desagredadas por municipios.\n",
    "\n",
    "Obtendremos un DataFrame con la siguiente información:\n",
    "- Codigo Municipio\n",
    "- Nº Hombres Extranjeros\n",
    "- Nº Mujeres Extranjeros\n",
    "- Nº Total Extranjeros"
   ]
  },
  {
   "cell_type": "code",
   "execution_count": 1,
   "id": "b3d49ea7",
   "metadata": {},
   "outputs": [],
   "source": [
    "import pandas as pd\n",
    "import requests"
   ]
  },
  {
   "cell_type": "code",
   "execution_count": 2,
   "id": "c09407b6",
   "metadata": {},
   "outputs": [],
   "source": [
    "Path = 'https://servicios.ine.es/wstempus/js/es/DATOS_TABLA//t20/e244/avance/p02/l0/2mun00.px?tip=AM&p=2&'\n",
    "\n",
    "json_request = requests.get(Path).json()"
   ]
  },
  {
   "cell_type": "code",
   "execution_count": 3,
   "id": "fbcb61cc",
   "metadata": {},
   "outputs": [],
   "source": [
    "CodHomExtiList = list()\n",
    "HomExtiList = list()\n",
    "CodMujExtiList = list()\n",
    "MujExtiList = list()\n",
    "CodTotalExtiList = list()\n",
    "TotalExtiList = list()"
   ]
  },
  {
   "cell_type": "code",
   "execution_count": 4,
   "id": "852b1019",
   "metadata": {},
   "outputs": [],
   "source": [
    "for dato in json_request: \n",
    "    for i in range(0,len(dato['Data'])):\n",
    "        if 'Hombres, Nacidos en el extranjero' in dato['Nombre']:\n",
    "            CodHomExtiList.append(dato['MetaData'][0]['Codigo'])\n",
    "            HomExtiList.append(dato['Data'][i]['Valor'])\n",
    "        elif 'Mujeres, Nacidos en el extranjero' in dato['Nombre']:\n",
    "            CodMujExtiList.append(dato['MetaData'][0]['Codigo'])\n",
    "            MujExtiList.append(dato['Data'][i]['Valor'])     \n",
    "        elif 'Ambos sexos, Nacidos en el extranjero' in dato['Nombre']:\n",
    "            CodTotalExtiList.append(dato['MetaData'][0]['Codigo'])\n",
    "            TotalExtiList.append(dato['Data'][i]['Valor']) "
   ]
  },
  {
   "cell_type": "code",
   "execution_count": 5,
   "id": "51afe932",
   "metadata": {},
   "outputs": [],
   "source": [
    "HombresExtranjeros11 = pd.DataFrame({\n",
    "        'Codigo Municipio' : CodHomExtiList,\n",
    "        'Nº Hombres Extranjeros': HomExtiList\n",
    "    })\n",
    "\n",
    "MujeresExtranjeras11 = pd.DataFrame({\n",
    "        'Codigo Municipio' : CodMujExtiList,\n",
    "        'Nº Mujeres Extranjeras': MujExtiList\n",
    "    })\n",
    "\n",
    "TotalExtranjeros11 = pd.DataFrame({\n",
    "        'Codigo Municipio' : CodTotalExtiList,\n",
    "        'Nº Total Extranjeros': TotalExtiList\n",
    "    })"
   ]
  },
  {
   "cell_type": "code",
   "execution_count": 6,
   "id": "075b24ce",
   "metadata": {},
   "outputs": [
    {
     "data": {
      "text/html": [
       "<div>\n",
       "<style scoped>\n",
       "    .dataframe tbody tr th:only-of-type {\n",
       "        vertical-align: middle;\n",
       "    }\n",
       "\n",
       "    .dataframe tbody tr th {\n",
       "        vertical-align: top;\n",
       "    }\n",
       "\n",
       "    .dataframe thead th {\n",
       "        text-align: right;\n",
       "    }\n",
       "</style>\n",
       "<table border=\"1\" class=\"dataframe\">\n",
       "  <thead>\n",
       "    <tr style=\"text-align: right;\">\n",
       "      <th></th>\n",
       "      <th>Codigo Municipio</th>\n",
       "      <th>Nº Hombres Extranjeros</th>\n",
       "      <th>Nº Mujeres Extranjeras</th>\n",
       "      <th>Nº Total Extranjeros</th>\n",
       "    </tr>\n",
       "  </thead>\n",
       "  <tbody>\n",
       "    <tr>\n",
       "      <th>0</th>\n",
       "      <td>00000</td>\n",
       "      <td>3194715.0</td>\n",
       "      <td>3112562.0</td>\n",
       "      <td>6307277.0</td>\n",
       "    </tr>\n",
       "    <tr>\n",
       "      <th>1</th>\n",
       "      <td>44001</td>\n",
       "      <td>NaN</td>\n",
       "      <td>0.0</td>\n",
       "      <td>0.0</td>\n",
       "    </tr>\n",
       "    <tr>\n",
       "      <th>2</th>\n",
       "      <td>40001</td>\n",
       "      <td>21.0</td>\n",
       "      <td>24.0</td>\n",
       "      <td>46.0</td>\n",
       "    </tr>\n",
       "    <tr>\n",
       "      <th>3</th>\n",
       "      <td>10001</td>\n",
       "      <td>2.0</td>\n",
       "      <td>4.0</td>\n",
       "      <td>6.0</td>\n",
       "    </tr>\n",
       "    <tr>\n",
       "      <th>4</th>\n",
       "      <td>27001</td>\n",
       "      <td>14.0</td>\n",
       "      <td>14.0</td>\n",
       "      <td>28.0</td>\n",
       "    </tr>\n",
       "  </tbody>\n",
       "</table>\n",
       "</div>"
      ],
      "text/plain": [
       "  Codigo Municipio  Nº Hombres Extranjeros  Nº Mujeres Extranjeras  \\\n",
       "0            00000               3194715.0               3112562.0   \n",
       "1            44001                     NaN                     0.0   \n",
       "2            40001                    21.0                    24.0   \n",
       "3            10001                     2.0                     4.0   \n",
       "4            27001                    14.0                    14.0   \n",
       "\n",
       "   Nº Total Extranjeros  \n",
       "0             6307277.0  \n",
       "1                   0.0  \n",
       "2                  46.0  \n",
       "3                   6.0  \n",
       "4                  28.0  "
      ]
     },
     "execution_count": 6,
     "metadata": {},
     "output_type": "execute_result"
    }
   ],
   "source": [
    "NacidosExtranjero11 = pd.concat([HombresExtranjeros11, MujeresExtranjeras11, TotalExtranjeros11], axis = 1)\n",
    "\n",
    "NacidosExtranjero11 = NacidosExtranjero11.loc[:, ~NacidosExtranjero11.columns.duplicated()]\n",
    "\n",
    "NacidosExtranjero11.head()"
   ]
  },
  {
   "cell_type": "code",
   "execution_count": 7,
   "id": "7860efb8",
   "metadata": {},
   "outputs": [],
   "source": [
    "NacidosExtranjero11.to_csv('14_Output_Nacidos_Extranjero_11.csv', header = True, index = False)"
   ]
  }
 ],
 "metadata": {
  "kernelspec": {
   "display_name": "Python 3 (ipykernel)",
   "language": "python",
   "name": "python3"
  },
  "language_info": {
   "codemirror_mode": {
    "name": "ipython",
    "version": 3
   },
   "file_extension": ".py",
   "mimetype": "text/x-python",
   "name": "python",
   "nbconvert_exporter": "python",
   "pygments_lexer": "ipython3",
   "version": "3.8.11"
  }
 },
 "nbformat": 4,
 "nbformat_minor": 5
}
