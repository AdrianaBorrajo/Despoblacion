{
 "cells": [
  {
   "cell_type": "markdown",
   "id": "15556bba",
   "metadata": {},
   "source": [
    "## Población nacida en otra CCAA 2011\n",
    "\n",
    "En este notebook procesaremos un JSON que contiene el número de personas; hombres y mujeres, nacidas en otra comunidad autónoma desagredadas por municipios.\n",
    "\n",
    "Obtendremos un DataFrame con la siguiente información:\n",
    "- Codigo Municipio\n",
    "- Nº Hombres Otra CCAA\n",
    "- Nº Mujeres Otra CCAA\n",
    "- Nº Total Otra CCAA"
   ]
  },
  {
   "cell_type": "code",
   "execution_count": 1,
   "id": "b3d49ea7",
   "metadata": {},
   "outputs": [],
   "source": [
    "import pandas as pd\n",
    "import requests"
   ]
  },
  {
   "cell_type": "code",
   "execution_count": 2,
   "id": "c09407b6",
   "metadata": {},
   "outputs": [],
   "source": [
    "Path = 'https://servicios.ine.es/wstempus/js/es/DATOS_TABLA//t20/e244/avance/p02/l0/2mun00.px?tip=AM&p=2&'\n",
    "\n",
    "json_request = requests.get(Path).json()"
   ]
  },
  {
   "cell_type": "code",
   "execution_count": 3,
   "id": "fbcb61cc",
   "metadata": {},
   "outputs": [],
   "source": [
    "CodHomCCAAList = list()\n",
    "HomCCAAList = list()\n",
    "CodMujCCAAList = list()\n",
    "MujCCAAList = list()\n",
    "CodTotalCCAAList = list()\n",
    "TotalCCAAList = list()"
   ]
  },
  {
   "cell_type": "code",
   "execution_count": 4,
   "id": "852b1019",
   "metadata": {},
   "outputs": [],
   "source": [
    "for dato in json_request: \n",
    "    for i in range(0,len(dato['Data'])):\n",
    "        if 'Hombres, En distinta Comunidad Autónoma' in dato['Nombre']:\n",
    "            CodHomCCAAList.append(dato['MetaData'][0]['Codigo'])\n",
    "            HomCCAAList.append(dato['Data'][i]['Valor'])\n",
    "        elif 'Mujeres, En distinta Comunidad Autónoma' in dato['Nombre']:\n",
    "            CodMujCCAAList.append(dato['MetaData'][0]['Codigo'])\n",
    "            MujCCAAList.append(dato['Data'][i]['Valor'])     \n",
    "        elif 'Ambos sexos, En distinta Comunidad Autónoma' in dato['Nombre']:\n",
    "            CodTotalCCAAList.append(dato['MetaData'][0]['Codigo'])\n",
    "            TotalCCAAList.append(dato['Data'][i]['Valor']) "
   ]
  },
  {
   "cell_type": "code",
   "execution_count": 5,
   "id": "51afe932",
   "metadata": {},
   "outputs": [],
   "source": [
    "HombresCCAA11 = pd.DataFrame({\n",
    "        'Codigo Municipio' : CodHomCCAAList,\n",
    "        'Nº Hombres Otra CCAA': HomCCAAList\n",
    "    })\n",
    "\n",
    "MujeresCCAA11 = pd.DataFrame({\n",
    "        'Codigo Municipio' : CodMujCCAAList,\n",
    "        'Nº Mujeres Otra CCAA': MujCCAAList\n",
    "    })\n",
    "\n",
    "TotalCCAA11 = pd.DataFrame({\n",
    "        'Codigo Municipio' : CodTotalCCAAList,\n",
    "        'Nº Total Otra CCAA': TotalCCAAList\n",
    "    })"
   ]
  },
  {
   "cell_type": "code",
   "execution_count": 6,
   "id": "075b24ce",
   "metadata": {},
   "outputs": [
    {
     "data": {
      "text/html": [
       "<div>\n",
       "<style scoped>\n",
       "    .dataframe tbody tr th:only-of-type {\n",
       "        vertical-align: middle;\n",
       "    }\n",
       "\n",
       "    .dataframe tbody tr th {\n",
       "        vertical-align: top;\n",
       "    }\n",
       "\n",
       "    .dataframe thead th {\n",
       "        text-align: right;\n",
       "    }\n",
       "</style>\n",
       "<table border=\"1\" class=\"dataframe\">\n",
       "  <thead>\n",
       "    <tr style=\"text-align: right;\">\n",
       "      <th></th>\n",
       "      <th>Codigo Municipio</th>\n",
       "      <th>Nº Hombres Otra CCAA</th>\n",
       "      <th>Nº Mujeres Otra CCAA</th>\n",
       "      <th>Nº Total Otra CCAA</th>\n",
       "    </tr>\n",
       "  </thead>\n",
       "  <tbody>\n",
       "    <tr>\n",
       "      <th>0</th>\n",
       "      <td>00000</td>\n",
       "      <td>3311385.0</td>\n",
       "      <td>3738261.0</td>\n",
       "      <td>7049646.0</td>\n",
       "    </tr>\n",
       "    <tr>\n",
       "      <th>1</th>\n",
       "      <td>44001</td>\n",
       "      <td>6.0</td>\n",
       "      <td>5.0</td>\n",
       "      <td>11.0</td>\n",
       "    </tr>\n",
       "    <tr>\n",
       "      <th>2</th>\n",
       "      <td>40001</td>\n",
       "      <td>26.0</td>\n",
       "      <td>21.0</td>\n",
       "      <td>47.0</td>\n",
       "    </tr>\n",
       "    <tr>\n",
       "      <th>3</th>\n",
       "      <td>10001</td>\n",
       "      <td>34.0</td>\n",
       "      <td>22.0</td>\n",
       "      <td>56.0</td>\n",
       "    </tr>\n",
       "    <tr>\n",
       "      <th>4</th>\n",
       "      <td>27001</td>\n",
       "      <td>44.0</td>\n",
       "      <td>19.0</td>\n",
       "      <td>63.0</td>\n",
       "    </tr>\n",
       "  </tbody>\n",
       "</table>\n",
       "</div>"
      ],
      "text/plain": [
       "  Codigo Municipio  Nº Hombres Otra CCAA  Nº Mujeres Otra CCAA  \\\n",
       "0            00000             3311385.0             3738261.0   \n",
       "1            44001                   6.0                   5.0   \n",
       "2            40001                  26.0                  21.0   \n",
       "3            10001                  34.0                  22.0   \n",
       "4            27001                  44.0                  19.0   \n",
       "\n",
       "   Nº Total Otra CCAA  \n",
       "0           7049646.0  \n",
       "1                11.0  \n",
       "2                47.0  \n",
       "3                56.0  \n",
       "4                63.0  "
      ]
     },
     "execution_count": 6,
     "metadata": {},
     "output_type": "execute_result"
    }
   ],
   "source": [
    "NacidosOtraCCAA11 = pd.concat([HombresCCAA11, MujeresCCAA11, TotalCCAA11], axis = 1)\n",
    "\n",
    "NacidosOtraCCAA11 = NacidosOtraCCAA11.loc[:, ~NacidosOtraCCAA11.columns.duplicated()]\n",
    "\n",
    "NacidosOtraCCAA11.head()"
   ]
  },
  {
   "cell_type": "code",
   "execution_count": 7,
   "id": "7860efb8",
   "metadata": {},
   "outputs": [],
   "source": [
    "NacidosOtraCCAA11.to_csv('15_Output_Nacidos_Otra_CCAA_11.csv', header = True, index = False)"
   ]
  }
 ],
 "metadata": {
  "kernelspec": {
   "display_name": "Python 3 (ipykernel)",
   "language": "python",
   "name": "python3"
  },
  "language_info": {
   "codemirror_mode": {
    "name": "ipython",
    "version": 3
   },
   "file_extension": ".py",
   "mimetype": "text/x-python",
   "name": "python",
   "nbconvert_exporter": "python",
   "pygments_lexer": "ipython3",
   "version": "3.8.11"
  }
 },
 "nbformat": 4,
 "nbformat_minor": 5
}
