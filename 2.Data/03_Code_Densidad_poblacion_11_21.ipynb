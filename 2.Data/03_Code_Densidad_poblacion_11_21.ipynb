{
 "cells": [
  {
   "cell_type": "markdown",
   "id": "1a4c0b70",
   "metadata": {},
   "source": [
    "## Densidad población 2011 y 2021\n",
    "\n",
    "En este notebook procesaremos un .xlsx con la superficie de cada uno de los municipios junto con los csv files que contienen los datos de población.  \n",
    "Calculamos la densidad desagregada por municipios y ciudades autónomas para 2011 y 2021."
   ]
  },
  {
   "cell_type": "code",
   "execution_count": 1,
   "id": "816ff6bd",
   "metadata": {},
   "outputs": [],
   "source": [
    "import pandas as pd"
   ]
  },
  {
   "cell_type": "code",
   "execution_count": 2,
   "id": "a4fd71aa",
   "metadata": {},
   "outputs": [
    {
     "data": {
      "text/html": [
       "<div>\n",
       "<style scoped>\n",
       "    .dataframe tbody tr th:only-of-type {\n",
       "        vertical-align: middle;\n",
       "    }\n",
       "\n",
       "    .dataframe tbody tr th {\n",
       "        vertical-align: top;\n",
       "    }\n",
       "\n",
       "    .dataframe thead th {\n",
       "        text-align: right;\n",
       "    }\n",
       "</style>\n",
       "<table border=\"1\" class=\"dataframe\">\n",
       "  <thead>\n",
       "    <tr style=\"text-align: right;\">\n",
       "      <th></th>\n",
       "      <th>ID_REL</th>\n",
       "      <th>SUPERFICIE</th>\n",
       "    </tr>\n",
       "  </thead>\n",
       "  <tbody>\n",
       "    <tr>\n",
       "      <th>0</th>\n",
       "      <td>01001</td>\n",
       "      <td>1994.5872</td>\n",
       "    </tr>\n",
       "    <tr>\n",
       "      <th>1</th>\n",
       "      <td>01002</td>\n",
       "      <td>9629.6800</td>\n",
       "    </tr>\n",
       "    <tr>\n",
       "      <th>2</th>\n",
       "      <td>01003</td>\n",
       "      <td>7302.1000</td>\n",
       "    </tr>\n",
       "    <tr>\n",
       "      <th>3</th>\n",
       "      <td>01004</td>\n",
       "      <td>2728.7300</td>\n",
       "    </tr>\n",
       "    <tr>\n",
       "      <th>4</th>\n",
       "      <td>01006</td>\n",
       "      <td>1297.2700</td>\n",
       "    </tr>\n",
       "  </tbody>\n",
       "</table>\n",
       "</div>"
      ],
      "text/plain": [
       "  ID_REL  SUPERFICIE\n",
       "0  01001   1994.5872\n",
       "1  01002   9629.6800\n",
       "2  01003   7302.1000\n",
       "3  01004   2728.7300\n",
       "4  01006   1297.2700"
      ]
     },
     "execution_count": 2,
     "metadata": {},
     "output_type": "execute_result"
    }
   ],
   "source": [
    "DensidadPoblacion = pd.read_excel('03_Input_Densidad_Poblacion_11_21.xlsx',\n",
    "                                  dtype = {'ID_REL' : str}, \n",
    "                                  usecols = ('ID_REL','SUPERFICIE'))\n",
    "\n",
    "DensidadPoblacion.head()"
   ]
  },
  {
   "cell_type": "code",
   "execution_count": 3,
   "id": "bb361dee",
   "metadata": {},
   "outputs": [],
   "source": [
    "DensidadPoblacion.rename({'ID_REL': 'Codigo Municipio'}, axis = 1, inplace = True)"
   ]
  },
  {
   "cell_type": "markdown",
   "id": "205a191f",
   "metadata": {},
   "source": [
    "### Densidad población 2011\n",
    "\n",
    "Junto con la tabla 02_Output_Poblacion_11.csv que contiene la población de 2011, obtendremos un DataFrame \n",
    "con la siguiente información:\n",
    "- Codigo Municipio\n",
    "- Superficie km2\n",
    "- Densidad Población"
   ]
  },
  {
   "cell_type": "code",
   "execution_count": 4,
   "id": "c1b18b22",
   "metadata": {},
   "outputs": [
    {
     "data": {
      "text/html": [
       "<div>\n",
       "<style scoped>\n",
       "    .dataframe tbody tr th:only-of-type {\n",
       "        vertical-align: middle;\n",
       "    }\n",
       "\n",
       "    .dataframe tbody tr th {\n",
       "        vertical-align: top;\n",
       "    }\n",
       "\n",
       "    .dataframe thead th {\n",
       "        text-align: right;\n",
       "    }\n",
       "</style>\n",
       "<table border=\"1\" class=\"dataframe\">\n",
       "  <thead>\n",
       "    <tr style=\"text-align: right;\">\n",
       "      <th></th>\n",
       "      <th>Codigo Municipio</th>\n",
       "      <th>Poblacion Total</th>\n",
       "    </tr>\n",
       "  </thead>\n",
       "  <tbody>\n",
       "    <tr>\n",
       "      <th>0</th>\n",
       "      <td>01</td>\n",
       "      <td>319227.0</td>\n",
       "    </tr>\n",
       "    <tr>\n",
       "      <th>1</th>\n",
       "      <td>01001</td>\n",
       "      <td>2803.0</td>\n",
       "    </tr>\n",
       "    <tr>\n",
       "      <th>2</th>\n",
       "      <td>01002</td>\n",
       "      <td>10014.0</td>\n",
       "    </tr>\n",
       "    <tr>\n",
       "      <th>3</th>\n",
       "      <td>01049</td>\n",
       "      <td>168.0</td>\n",
       "    </tr>\n",
       "    <tr>\n",
       "      <th>4</th>\n",
       "      <td>01003</td>\n",
       "      <td>1496.0</td>\n",
       "    </tr>\n",
       "  </tbody>\n",
       "</table>\n",
       "</div>"
      ],
      "text/plain": [
       "  Codigo Municipio  Poblacion Total\n",
       "0               01         319227.0\n",
       "1            01001           2803.0\n",
       "2            01002          10014.0\n",
       "3            01049            168.0\n",
       "4            01003           1496.0"
      ]
     },
     "execution_count": 4,
     "metadata": {},
     "output_type": "execute_result"
    }
   ],
   "source": [
    "Poblacion11 = pd.read_csv('02_Output_Poblacion_11.csv',\n",
    "                          dtype = {'Codigo Municipio' : str},\n",
    "                          usecols = ( 'Codigo Municipio', 'Poblacion Total'))\n",
    "\n",
    "Poblacion11.head()"
   ]
  },
  {
   "cell_type": "code",
   "execution_count": 5,
   "id": "e539782a",
   "metadata": {},
   "outputs": [
    {
     "data": {
      "text/html": [
       "<div>\n",
       "<style scoped>\n",
       "    .dataframe tbody tr th:only-of-type {\n",
       "        vertical-align: middle;\n",
       "    }\n",
       "\n",
       "    .dataframe tbody tr th {\n",
       "        vertical-align: top;\n",
       "    }\n",
       "\n",
       "    .dataframe thead th {\n",
       "        text-align: right;\n",
       "    }\n",
       "</style>\n",
       "<table border=\"1\" class=\"dataframe\">\n",
       "  <thead>\n",
       "    <tr style=\"text-align: right;\">\n",
       "      <th></th>\n",
       "      <th>Codigo Municipio</th>\n",
       "      <th>SUPERFICIE</th>\n",
       "      <th>Poblacion Total</th>\n",
       "    </tr>\n",
       "  </thead>\n",
       "  <tbody>\n",
       "    <tr>\n",
       "      <th>0</th>\n",
       "      <td>01001</td>\n",
       "      <td>1994.5872</td>\n",
       "      <td>2803.0</td>\n",
       "    </tr>\n",
       "    <tr>\n",
       "      <th>1</th>\n",
       "      <td>01002</td>\n",
       "      <td>9629.6800</td>\n",
       "      <td>10014.0</td>\n",
       "    </tr>\n",
       "    <tr>\n",
       "      <th>2</th>\n",
       "      <td>01003</td>\n",
       "      <td>7302.1000</td>\n",
       "      <td>1496.0</td>\n",
       "    </tr>\n",
       "    <tr>\n",
       "      <th>3</th>\n",
       "      <td>01004</td>\n",
       "      <td>2728.7300</td>\n",
       "      <td>1843.0</td>\n",
       "    </tr>\n",
       "    <tr>\n",
       "      <th>4</th>\n",
       "      <td>01006</td>\n",
       "      <td>1297.2700</td>\n",
       "      <td>229.0</td>\n",
       "    </tr>\n",
       "  </tbody>\n",
       "</table>\n",
       "</div>"
      ],
      "text/plain": [
       "  Codigo Municipio  SUPERFICIE  Poblacion Total\n",
       "0            01001   1994.5872           2803.0\n",
       "1            01002   9629.6800          10014.0\n",
       "2            01003   7302.1000           1496.0\n",
       "3            01004   2728.7300           1843.0\n",
       "4            01006   1297.2700            229.0"
      ]
     },
     "execution_count": 5,
     "metadata": {},
     "output_type": "execute_result"
    }
   ],
   "source": [
    "DensidadPoblacion11 = DensidadPoblacion.merge(Poblacion11, on ='Codigo Municipio')\n",
    "\n",
    "DensidadPoblacion11.head()"
   ]
  },
  {
   "cell_type": "markdown",
   "id": "62d8e839",
   "metadata": {},
   "source": [
    "La superficie está en hectáreas, la pasamos a km2 y calculamos la densidad:"
   ]
  },
  {
   "cell_type": "code",
   "execution_count": 6,
   "id": "63ab1607",
   "metadata": {},
   "outputs": [
    {
     "data": {
      "text/plain": [
       "Codigo Municipio     object\n",
       "SUPERFICIE          float64\n",
       "Poblacion Total     float64\n",
       "dtype: object"
      ]
     },
     "execution_count": 6,
     "metadata": {},
     "output_type": "execute_result"
    }
   ],
   "source": [
    "DensidadPoblacion11.dtypes"
   ]
  },
  {
   "cell_type": "code",
   "execution_count": 7,
   "id": "1e2d39f8",
   "metadata": {},
   "outputs": [],
   "source": [
    "DensidadPoblacion11['Superficie Km2'] = DensidadPoblacion11['SUPERFICIE'].map(lambda x: x/100).round(2)\n",
    "\n",
    "DensidadPoblacion11['Densidad Poblacion'] = (DensidadPoblacion11['Poblacion Total']\\\n",
    "                                             / DensidadPoblacion11['Superficie Km2']).round(2)"
   ]
  },
  {
   "cell_type": "code",
   "execution_count": 8,
   "id": "8df44a4e",
   "metadata": {},
   "outputs": [
    {
     "data": {
      "text/html": [
       "<div>\n",
       "<style scoped>\n",
       "    .dataframe tbody tr th:only-of-type {\n",
       "        vertical-align: middle;\n",
       "    }\n",
       "\n",
       "    .dataframe tbody tr th {\n",
       "        vertical-align: top;\n",
       "    }\n",
       "\n",
       "    .dataframe thead th {\n",
       "        text-align: right;\n",
       "    }\n",
       "</style>\n",
       "<table border=\"1\" class=\"dataframe\">\n",
       "  <thead>\n",
       "    <tr style=\"text-align: right;\">\n",
       "      <th></th>\n",
       "      <th>Codigo Municipio</th>\n",
       "      <th>Superficie Km2</th>\n",
       "      <th>Densidad Poblacion</th>\n",
       "    </tr>\n",
       "  </thead>\n",
       "  <tbody>\n",
       "    <tr>\n",
       "      <th>0</th>\n",
       "      <td>01001</td>\n",
       "      <td>19.95</td>\n",
       "      <td>140.50</td>\n",
       "    </tr>\n",
       "    <tr>\n",
       "      <th>1</th>\n",
       "      <td>01002</td>\n",
       "      <td>96.30</td>\n",
       "      <td>103.99</td>\n",
       "    </tr>\n",
       "    <tr>\n",
       "      <th>2</th>\n",
       "      <td>01003</td>\n",
       "      <td>73.02</td>\n",
       "      <td>20.49</td>\n",
       "    </tr>\n",
       "    <tr>\n",
       "      <th>3</th>\n",
       "      <td>01004</td>\n",
       "      <td>27.29</td>\n",
       "      <td>67.53</td>\n",
       "    </tr>\n",
       "    <tr>\n",
       "      <th>4</th>\n",
       "      <td>01006</td>\n",
       "      <td>12.97</td>\n",
       "      <td>17.66</td>\n",
       "    </tr>\n",
       "  </tbody>\n",
       "</table>\n",
       "</div>"
      ],
      "text/plain": [
       "  Codigo Municipio  Superficie Km2  Densidad Poblacion\n",
       "0            01001           19.95              140.50\n",
       "1            01002           96.30              103.99\n",
       "2            01003           73.02               20.49\n",
       "3            01004           27.29               67.53\n",
       "4            01006           12.97               17.66"
      ]
     },
     "execution_count": 8,
     "metadata": {},
     "output_type": "execute_result"
    }
   ],
   "source": [
    "DensidadPoblacion11 = DensidadPoblacion11.drop(['SUPERFICIE', 'Poblacion Total'], axis = 1)\n",
    "\n",
    "DensidadPoblacion11.head()"
   ]
  },
  {
   "cell_type": "code",
   "execution_count": 9,
   "id": "66ecea38",
   "metadata": {},
   "outputs": [],
   "source": [
    "DensidadPoblacion11.to_csv('03_Output_Densidad_Poblacion_11.csv', header = True, index = False)"
   ]
  },
  {
   "cell_type": "markdown",
   "id": "4943dd6e",
   "metadata": {},
   "source": [
    "### Densidad población 2021\n",
    "\n",
    "Junto con la tabla 02_Output_Poblacion_21.csv que contiene la población de 2021, obtendremos un DataFrame \n",
    "con la siguiente información:\n",
    "- Codigo Municipio\n",
    "- Superficie km2\n",
    "- Densidad Población"
   ]
  },
  {
   "cell_type": "code",
   "execution_count": 10,
   "id": "1bbfdcbc",
   "metadata": {},
   "outputs": [
    {
     "data": {
      "text/html": [
       "<div>\n",
       "<style scoped>\n",
       "    .dataframe tbody tr th:only-of-type {\n",
       "        vertical-align: middle;\n",
       "    }\n",
       "\n",
       "    .dataframe tbody tr th {\n",
       "        vertical-align: top;\n",
       "    }\n",
       "\n",
       "    .dataframe thead th {\n",
       "        text-align: right;\n",
       "    }\n",
       "</style>\n",
       "<table border=\"1\" class=\"dataframe\">\n",
       "  <thead>\n",
       "    <tr style=\"text-align: right;\">\n",
       "      <th></th>\n",
       "      <th>Codigo Municipio</th>\n",
       "      <th>Poblacion Total</th>\n",
       "    </tr>\n",
       "  </thead>\n",
       "  <tbody>\n",
       "    <tr>\n",
       "      <th>0</th>\n",
       "      <td>01</td>\n",
       "      <td>333626.0</td>\n",
       "    </tr>\n",
       "    <tr>\n",
       "      <th>1</th>\n",
       "      <td>01001</td>\n",
       "      <td>2925.0</td>\n",
       "    </tr>\n",
       "    <tr>\n",
       "      <th>2</th>\n",
       "      <td>01002</td>\n",
       "      <td>10307.0</td>\n",
       "    </tr>\n",
       "    <tr>\n",
       "      <th>3</th>\n",
       "      <td>01049</td>\n",
       "      <td>155.0</td>\n",
       "    </tr>\n",
       "    <tr>\n",
       "      <th>4</th>\n",
       "      <td>01003</td>\n",
       "      <td>1456.0</td>\n",
       "    </tr>\n",
       "  </tbody>\n",
       "</table>\n",
       "</div>"
      ],
      "text/plain": [
       "  Codigo Municipio  Poblacion Total\n",
       "0               01         333626.0\n",
       "1            01001           2925.0\n",
       "2            01002          10307.0\n",
       "3            01049            155.0\n",
       "4            01003           1456.0"
      ]
     },
     "execution_count": 10,
     "metadata": {},
     "output_type": "execute_result"
    }
   ],
   "source": [
    "Poblacion21 = pd.read_csv('02_Output_Poblacion_21.csv', \n",
    "                          dtype = {'Codigo Municipio' : str},\n",
    "                          usecols = ( 'Codigo Municipio', 'Poblacion Total'))\n",
    "Poblacion21.head()"
   ]
  },
  {
   "cell_type": "code",
   "execution_count": 11,
   "id": "ac06ec4f",
   "metadata": {},
   "outputs": [
    {
     "data": {
      "text/html": [
       "<div>\n",
       "<style scoped>\n",
       "    .dataframe tbody tr th:only-of-type {\n",
       "        vertical-align: middle;\n",
       "    }\n",
       "\n",
       "    .dataframe tbody tr th {\n",
       "        vertical-align: top;\n",
       "    }\n",
       "\n",
       "    .dataframe thead th {\n",
       "        text-align: right;\n",
       "    }\n",
       "</style>\n",
       "<table border=\"1\" class=\"dataframe\">\n",
       "  <thead>\n",
       "    <tr style=\"text-align: right;\">\n",
       "      <th></th>\n",
       "      <th>Codigo Municipio</th>\n",
       "      <th>SUPERFICIE</th>\n",
       "      <th>Poblacion Total</th>\n",
       "    </tr>\n",
       "  </thead>\n",
       "  <tbody>\n",
       "    <tr>\n",
       "      <th>0</th>\n",
       "      <td>01001</td>\n",
       "      <td>1994.5872</td>\n",
       "      <td>2925.0</td>\n",
       "    </tr>\n",
       "    <tr>\n",
       "      <th>1</th>\n",
       "      <td>01002</td>\n",
       "      <td>9629.6800</td>\n",
       "      <td>10307.0</td>\n",
       "    </tr>\n",
       "    <tr>\n",
       "      <th>2</th>\n",
       "      <td>01003</td>\n",
       "      <td>7302.1000</td>\n",
       "      <td>1456.0</td>\n",
       "    </tr>\n",
       "    <tr>\n",
       "      <th>3</th>\n",
       "      <td>01004</td>\n",
       "      <td>2728.7300</td>\n",
       "      <td>1809.0</td>\n",
       "    </tr>\n",
       "    <tr>\n",
       "      <th>4</th>\n",
       "      <td>01006</td>\n",
       "      <td>1297.2700</td>\n",
       "      <td>231.0</td>\n",
       "    </tr>\n",
       "  </tbody>\n",
       "</table>\n",
       "</div>"
      ],
      "text/plain": [
       "  Codigo Municipio  SUPERFICIE  Poblacion Total\n",
       "0            01001   1994.5872           2925.0\n",
       "1            01002   9629.6800          10307.0\n",
       "2            01003   7302.1000           1456.0\n",
       "3            01004   2728.7300           1809.0\n",
       "4            01006   1297.2700            231.0"
      ]
     },
     "execution_count": 11,
     "metadata": {},
     "output_type": "execute_result"
    }
   ],
   "source": [
    "DensidadPoblacion21 = DensidadPoblacion.merge(Poblacion21, on ='Codigo Municipio')\n",
    "\n",
    "DensidadPoblacion21.head()"
   ]
  },
  {
   "cell_type": "markdown",
   "id": "d9e5f19d",
   "metadata": {},
   "source": [
    "La superficie está en hectareas, la pasamos a km2 y calculamos la densidad:"
   ]
  },
  {
   "cell_type": "code",
   "execution_count": 12,
   "id": "9dfa73a0",
   "metadata": {},
   "outputs": [],
   "source": [
    "DensidadPoblacion21['Superficie Km2'] = DensidadPoblacion21['SUPERFICIE'].map(lambda x: x/100).round(2)\n",
    "\n",
    "DensidadPoblacion21['Densidad Poblacion'] = (DensidadPoblacion21['Poblacion Total']\\\n",
    "                                             / DensidadPoblacion21['Superficie Km2']).round(2)"
   ]
  },
  {
   "cell_type": "code",
   "execution_count": 13,
   "id": "e6440a19",
   "metadata": {},
   "outputs": [
    {
     "data": {
      "text/html": [
       "<div>\n",
       "<style scoped>\n",
       "    .dataframe tbody tr th:only-of-type {\n",
       "        vertical-align: middle;\n",
       "    }\n",
       "\n",
       "    .dataframe tbody tr th {\n",
       "        vertical-align: top;\n",
       "    }\n",
       "\n",
       "    .dataframe thead th {\n",
       "        text-align: right;\n",
       "    }\n",
       "</style>\n",
       "<table border=\"1\" class=\"dataframe\">\n",
       "  <thead>\n",
       "    <tr style=\"text-align: right;\">\n",
       "      <th></th>\n",
       "      <th>Codigo Municipio</th>\n",
       "      <th>Superficie Km2</th>\n",
       "      <th>Densidad Poblacion</th>\n",
       "    </tr>\n",
       "  </thead>\n",
       "  <tbody>\n",
       "    <tr>\n",
       "      <th>0</th>\n",
       "      <td>01001</td>\n",
       "      <td>19.95</td>\n",
       "      <td>146.62</td>\n",
       "    </tr>\n",
       "    <tr>\n",
       "      <th>1</th>\n",
       "      <td>01002</td>\n",
       "      <td>96.30</td>\n",
       "      <td>107.03</td>\n",
       "    </tr>\n",
       "    <tr>\n",
       "      <th>2</th>\n",
       "      <td>01003</td>\n",
       "      <td>73.02</td>\n",
       "      <td>19.94</td>\n",
       "    </tr>\n",
       "    <tr>\n",
       "      <th>3</th>\n",
       "      <td>01004</td>\n",
       "      <td>27.29</td>\n",
       "      <td>66.29</td>\n",
       "    </tr>\n",
       "    <tr>\n",
       "      <th>4</th>\n",
       "      <td>01006</td>\n",
       "      <td>12.97</td>\n",
       "      <td>17.81</td>\n",
       "    </tr>\n",
       "  </tbody>\n",
       "</table>\n",
       "</div>"
      ],
      "text/plain": [
       "  Codigo Municipio  Superficie Km2  Densidad Poblacion\n",
       "0            01001           19.95              146.62\n",
       "1            01002           96.30              107.03\n",
       "2            01003           73.02               19.94\n",
       "3            01004           27.29               66.29\n",
       "4            01006           12.97               17.81"
      ]
     },
     "execution_count": 13,
     "metadata": {},
     "output_type": "execute_result"
    }
   ],
   "source": [
    "DensidadPoblacion21 = DensidadPoblacion21.drop(['SUPERFICIE', 'Poblacion Total'],axis = 1)\n",
    "\n",
    "DensidadPoblacion21.head()"
   ]
  },
  {
   "cell_type": "code",
   "execution_count": 14,
   "id": "7b596586",
   "metadata": {},
   "outputs": [],
   "source": [
    "DensidadPoblacion21.to_csv('03_Output_Densidad_Poblacion_21.csv', header = True, index = False)"
   ]
  }
 ],
 "metadata": {
  "kernelspec": {
   "display_name": "Python 3 (ipykernel)",
   "language": "python",
   "name": "python3"
  },
  "language_info": {
   "codemirror_mode": {
    "name": "ipython",
    "version": 3
   },
   "file_extension": ".py",
   "mimetype": "text/x-python",
   "name": "python",
   "nbconvert_exporter": "python",
   "pygments_lexer": "ipython3",
   "version": "3.8.11"
  }
 },
 "nbformat": 4,
 "nbformat_minor": 5
}
