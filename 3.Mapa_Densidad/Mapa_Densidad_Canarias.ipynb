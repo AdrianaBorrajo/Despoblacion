{
 "cells": [
  {
   "cell_type": "markdown",
   "id": "e5896e67",
   "metadata": {},
   "source": [
    "## Mapa coroplético de densidad: Canarias\n",
    "\n",
    "En este notebook crearemos un mapa coropléctico de Canarias en función de si el municipio es un área despoblada desde 2011, ha pasado a estar despoblado en 2021 o si siempre ha sido un área poblada.\n",
    "\n",
    "Cargamos todas las librerías que vamos a utilizar:"
   ]
  },
  {
   "cell_type": "code",
   "execution_count": 1,
   "id": "229576a5",
   "metadata": {},
   "outputs": [],
   "source": [
    "import geopandas as gpd\n",
    "import pandas as pd\n",
    "import matplotlib.pyplot as plt\n",
    "import json\n",
    "import numpy as np\n",
    "from bokeh.io.export import export_png\n",
    "from bokeh.plotting import figure, output_file, save\n",
    "from bokeh.models import GeoJSONDataSource, HoverTool, CategoricalColorMapper\n",
    "from bokeh.palettes import brewer"
   ]
  },
  {
   "cell_type": "markdown",
   "id": "f425d597",
   "metadata": {},
   "source": [
    "Leemos el shapefile con geopadas y creamos un DataFrame:"
   ]
  },
  {
   "cell_type": "code",
   "execution_count": 2,
   "id": "b7643edd",
   "metadata": {},
   "outputs": [
    {
     "data": {
      "text/html": [
       "<div>\n",
       "<style scoped>\n",
       "    .dataframe tbody tr th:only-of-type {\n",
       "        vertical-align: middle;\n",
       "    }\n",
       "\n",
       "    .dataframe tbody tr th {\n",
       "        vertical-align: top;\n",
       "    }\n",
       "\n",
       "    .dataframe thead th {\n",
       "        text-align: right;\n",
       "    }\n",
       "</style>\n",
       "<table border=\"1\" class=\"dataframe\">\n",
       "  <thead>\n",
       "    <tr style=\"text-align: right;\">\n",
       "      <th></th>\n",
       "      <th>INSPIREID</th>\n",
       "      <th>COUNTRY</th>\n",
       "      <th>NATLEV</th>\n",
       "      <th>NATLEVNAME</th>\n",
       "      <th>NATCODE</th>\n",
       "      <th>NAMEUNIT</th>\n",
       "      <th>CODNUT1</th>\n",
       "      <th>CODNUT2</th>\n",
       "      <th>CODNUT3</th>\n",
       "      <th>geometry</th>\n",
       "    </tr>\n",
       "  </thead>\n",
       "  <tbody>\n",
       "    <tr>\n",
       "      <th>0</th>\n",
       "      <td>ES.IGN.BDDAE.34053838046</td>\n",
       "      <td>ES</td>\n",
       "      <td>https://inspire.ec.europa.eu/codelist/Administ...</td>\n",
       "      <td>Municipio</td>\n",
       "      <td>34053838046</td>\n",
       "      <td>Tegueste</td>\n",
       "      <td>ES7</td>\n",
       "      <td>ES70</td>\n",
       "      <td>ES709</td>\n",
       "      <td>POLYGON ((-16.32911 28.50832, -16.32953 28.508...</td>\n",
       "    </tr>\n",
       "    <tr>\n",
       "      <th>1</th>\n",
       "      <td>ES.IGN.BDDAE.34053838047</td>\n",
       "      <td>ES</td>\n",
       "      <td>https://inspire.ec.europa.eu/codelist/Administ...</td>\n",
       "      <td>Municipio</td>\n",
       "      <td>34053838047</td>\n",
       "      <td>Tijarafe</td>\n",
       "      <td>ES7</td>\n",
       "      <td>ES70</td>\n",
       "      <td>ES707</td>\n",
       "      <td>POLYGON ((-17.99258 28.74029, -17.99193 28.741...</td>\n",
       "    </tr>\n",
       "    <tr>\n",
       "      <th>2</th>\n",
       "      <td>ES.IGN.BDDAE.34053838048</td>\n",
       "      <td>ES</td>\n",
       "      <td>https://inspire.ec.europa.eu/codelist/Administ...</td>\n",
       "      <td>Municipio</td>\n",
       "      <td>34053838048</td>\n",
       "      <td>Valverde</td>\n",
       "      <td>ES7</td>\n",
       "      <td>ES70</td>\n",
       "      <td>ES703</td>\n",
       "      <td>MULTIPOLYGON (((-17.95880 27.69777, -17.95880 ...</td>\n",
       "    </tr>\n",
       "    <tr>\n",
       "      <th>3</th>\n",
       "      <td>ES.IGN.BDDAE.34053838049</td>\n",
       "      <td>ES</td>\n",
       "      <td>https://inspire.ec.europa.eu/codelist/Administ...</td>\n",
       "      <td>Municipio</td>\n",
       "      <td>34053838049</td>\n",
       "      <td>Valle Gran Rey</td>\n",
       "      <td>ES7</td>\n",
       "      <td>ES70</td>\n",
       "      <td>ES706</td>\n",
       "      <td>MULTIPOLYGON (((-17.34759 28.11326, -17.34758 ...</td>\n",
       "    </tr>\n",
       "    <tr>\n",
       "      <th>4</th>\n",
       "      <td>ES.IGN.BDDAE.34053838050</td>\n",
       "      <td>ES</td>\n",
       "      <td>https://inspire.ec.europa.eu/codelist/Administ...</td>\n",
       "      <td>Municipio</td>\n",
       "      <td>34053838050</td>\n",
       "      <td>Vallehermoso</td>\n",
       "      <td>ES7</td>\n",
       "      <td>ES70</td>\n",
       "      <td>ES706</td>\n",
       "      <td>MULTIPOLYGON (((-17.32959 28.08038, -17.32958 ...</td>\n",
       "    </tr>\n",
       "  </tbody>\n",
       "</table>\n",
       "</div>"
      ],
      "text/plain": [
       "                  INSPIREID COUNTRY  \\\n",
       "0  ES.IGN.BDDAE.34053838046      ES   \n",
       "1  ES.IGN.BDDAE.34053838047      ES   \n",
       "2  ES.IGN.BDDAE.34053838048      ES   \n",
       "3  ES.IGN.BDDAE.34053838049      ES   \n",
       "4  ES.IGN.BDDAE.34053838050      ES   \n",
       "\n",
       "                                              NATLEV NATLEVNAME      NATCODE  \\\n",
       "0  https://inspire.ec.europa.eu/codelist/Administ...  Municipio  34053838046   \n",
       "1  https://inspire.ec.europa.eu/codelist/Administ...  Municipio  34053838047   \n",
       "2  https://inspire.ec.europa.eu/codelist/Administ...  Municipio  34053838048   \n",
       "3  https://inspire.ec.europa.eu/codelist/Administ...  Municipio  34053838049   \n",
       "4  https://inspire.ec.europa.eu/codelist/Administ...  Municipio  34053838050   \n",
       "\n",
       "         NAMEUNIT CODNUT1 CODNUT2 CODNUT3  \\\n",
       "0        Tegueste     ES7    ES70   ES709   \n",
       "1        Tijarafe     ES7    ES70   ES707   \n",
       "2        Valverde     ES7    ES70   ES703   \n",
       "3  Valle Gran Rey     ES7    ES70   ES706   \n",
       "4    Vallehermoso     ES7    ES70   ES706   \n",
       "\n",
       "                                            geometry  \n",
       "0  POLYGON ((-16.32911 28.50832, -16.32953 28.508...  \n",
       "1  POLYGON ((-17.99258 28.74029, -17.99193 28.741...  \n",
       "2  MULTIPOLYGON (((-17.95880 27.69777, -17.95880 ...  \n",
       "3  MULTIPOLYGON (((-17.34759 28.11326, -17.34758 ...  \n",
       "4  MULTIPOLYGON (((-17.32959 28.08038, -17.32958 ...  "
      ]
     },
     "execution_count": 2,
     "metadata": {},
     "output_type": "execute_result"
    }
   ],
   "source": [
    "path_canarias = 'Recintos_Municipales/recintos_municipales_inspire_canarias_wgs84.shp'\n",
    "Mapa = gpd.read_file(path_canarias)\n",
    "\n",
    "Mapa.head()"
   ]
  },
  {
   "cell_type": "markdown",
   "id": "15e0b692",
   "metadata": {},
   "source": [
    "Los últimos cinco dígitos del campo NATCODE son los correspondientes al código INE de los municipios.  \n",
    "Creamos una columna con estos códigos para posteriormente hacer un merge con un DataFrame que contiene la densidad de población de Canarias:"
   ]
  },
  {
   "cell_type": "code",
   "execution_count": 3,
   "id": "511f0752",
   "metadata": {},
   "outputs": [
    {
     "data": {
      "text/html": [
       "<div>\n",
       "<style scoped>\n",
       "    .dataframe tbody tr th:only-of-type {\n",
       "        vertical-align: middle;\n",
       "    }\n",
       "\n",
       "    .dataframe tbody tr th {\n",
       "        vertical-align: top;\n",
       "    }\n",
       "\n",
       "    .dataframe thead th {\n",
       "        text-align: right;\n",
       "    }\n",
       "</style>\n",
       "<table border=\"1\" class=\"dataframe\">\n",
       "  <thead>\n",
       "    <tr style=\"text-align: right;\">\n",
       "      <th></th>\n",
       "      <th>INSPIREID</th>\n",
       "      <th>COUNTRY</th>\n",
       "      <th>NATLEV</th>\n",
       "      <th>NATLEVNAME</th>\n",
       "      <th>NATCODE</th>\n",
       "      <th>NAMEUNIT</th>\n",
       "      <th>CODNUT1</th>\n",
       "      <th>CODNUT2</th>\n",
       "      <th>CODNUT3</th>\n",
       "      <th>geometry</th>\n",
       "      <th>Codigo Municipio</th>\n",
       "    </tr>\n",
       "  </thead>\n",
       "  <tbody>\n",
       "    <tr>\n",
       "      <th>0</th>\n",
       "      <td>ES.IGN.BDDAE.34053838046</td>\n",
       "      <td>ES</td>\n",
       "      <td>https://inspire.ec.europa.eu/codelist/Administ...</td>\n",
       "      <td>Municipio</td>\n",
       "      <td>34053838046</td>\n",
       "      <td>Tegueste</td>\n",
       "      <td>ES7</td>\n",
       "      <td>ES70</td>\n",
       "      <td>ES709</td>\n",
       "      <td>POLYGON ((-16.32911 28.50832, -16.32953 28.508...</td>\n",
       "      <td>38046</td>\n",
       "    </tr>\n",
       "    <tr>\n",
       "      <th>1</th>\n",
       "      <td>ES.IGN.BDDAE.34053838047</td>\n",
       "      <td>ES</td>\n",
       "      <td>https://inspire.ec.europa.eu/codelist/Administ...</td>\n",
       "      <td>Municipio</td>\n",
       "      <td>34053838047</td>\n",
       "      <td>Tijarafe</td>\n",
       "      <td>ES7</td>\n",
       "      <td>ES70</td>\n",
       "      <td>ES707</td>\n",
       "      <td>POLYGON ((-17.99258 28.74029, -17.99193 28.741...</td>\n",
       "      <td>38047</td>\n",
       "    </tr>\n",
       "    <tr>\n",
       "      <th>2</th>\n",
       "      <td>ES.IGN.BDDAE.34053838048</td>\n",
       "      <td>ES</td>\n",
       "      <td>https://inspire.ec.europa.eu/codelist/Administ...</td>\n",
       "      <td>Municipio</td>\n",
       "      <td>34053838048</td>\n",
       "      <td>Valverde</td>\n",
       "      <td>ES7</td>\n",
       "      <td>ES70</td>\n",
       "      <td>ES703</td>\n",
       "      <td>MULTIPOLYGON (((-17.95880 27.69777, -17.95880 ...</td>\n",
       "      <td>38048</td>\n",
       "    </tr>\n",
       "    <tr>\n",
       "      <th>3</th>\n",
       "      <td>ES.IGN.BDDAE.34053838049</td>\n",
       "      <td>ES</td>\n",
       "      <td>https://inspire.ec.europa.eu/codelist/Administ...</td>\n",
       "      <td>Municipio</td>\n",
       "      <td>34053838049</td>\n",
       "      <td>Valle Gran Rey</td>\n",
       "      <td>ES7</td>\n",
       "      <td>ES70</td>\n",
       "      <td>ES706</td>\n",
       "      <td>MULTIPOLYGON (((-17.34759 28.11326, -17.34758 ...</td>\n",
       "      <td>38049</td>\n",
       "    </tr>\n",
       "    <tr>\n",
       "      <th>4</th>\n",
       "      <td>ES.IGN.BDDAE.34053838050</td>\n",
       "      <td>ES</td>\n",
       "      <td>https://inspire.ec.europa.eu/codelist/Administ...</td>\n",
       "      <td>Municipio</td>\n",
       "      <td>34053838050</td>\n",
       "      <td>Vallehermoso</td>\n",
       "      <td>ES7</td>\n",
       "      <td>ES70</td>\n",
       "      <td>ES706</td>\n",
       "      <td>MULTIPOLYGON (((-17.32959 28.08038, -17.32958 ...</td>\n",
       "      <td>38050</td>\n",
       "    </tr>\n",
       "  </tbody>\n",
       "</table>\n",
       "</div>"
      ],
      "text/plain": [
       "                  INSPIREID COUNTRY  \\\n",
       "0  ES.IGN.BDDAE.34053838046      ES   \n",
       "1  ES.IGN.BDDAE.34053838047      ES   \n",
       "2  ES.IGN.BDDAE.34053838048      ES   \n",
       "3  ES.IGN.BDDAE.34053838049      ES   \n",
       "4  ES.IGN.BDDAE.34053838050      ES   \n",
       "\n",
       "                                              NATLEV NATLEVNAME      NATCODE  \\\n",
       "0  https://inspire.ec.europa.eu/codelist/Administ...  Municipio  34053838046   \n",
       "1  https://inspire.ec.europa.eu/codelist/Administ...  Municipio  34053838047   \n",
       "2  https://inspire.ec.europa.eu/codelist/Administ...  Municipio  34053838048   \n",
       "3  https://inspire.ec.europa.eu/codelist/Administ...  Municipio  34053838049   \n",
       "4  https://inspire.ec.europa.eu/codelist/Administ...  Municipio  34053838050   \n",
       "\n",
       "         NAMEUNIT CODNUT1 CODNUT2 CODNUT3  \\\n",
       "0        Tegueste     ES7    ES70   ES709   \n",
       "1        Tijarafe     ES7    ES70   ES707   \n",
       "2        Valverde     ES7    ES70   ES703   \n",
       "3  Valle Gran Rey     ES7    ES70   ES706   \n",
       "4    Vallehermoso     ES7    ES70   ES706   \n",
       "\n",
       "                                            geometry Codigo Municipio  \n",
       "0  POLYGON ((-16.32911 28.50832, -16.32953 28.508...            38046  \n",
       "1  POLYGON ((-17.99258 28.74029, -17.99193 28.741...            38047  \n",
       "2  MULTIPOLYGON (((-17.95880 27.69777, -17.95880 ...            38048  \n",
       "3  MULTIPOLYGON (((-17.34759 28.11326, -17.34758 ...            38049  \n",
       "4  MULTIPOLYGON (((-17.32959 28.08038, -17.32958 ...            38050  "
      ]
     },
     "execution_count": 3,
     "metadata": {},
     "output_type": "execute_result"
    }
   ],
   "source": [
    "Mapa['Codigo Municipio'] = Mapa['NATCODE'].str.slice(start=6)\n",
    "\n",
    "Mapa.head()"
   ]
  },
  {
   "cell_type": "markdown",
   "id": "194d0ac6",
   "metadata": {},
   "source": [
    "Cargamos la tabla con la información de Canarias que generamos en el notebook Umbral_Densidad_Poblacion"
   ]
  },
  {
   "cell_type": "code",
   "execution_count": 4,
   "id": "af306c2a",
   "metadata": {},
   "outputs": [],
   "source": [
    "Canarias = pd.read_csv('Canarias.csv', dtype = {'Codigo Municipio' : str})"
   ]
  },
  {
   "cell_type": "code",
   "execution_count": 5,
   "id": "33e0d808",
   "metadata": {},
   "outputs": [
    {
     "data": {
      "text/html": [
       "<div>\n",
       "<style scoped>\n",
       "    .dataframe tbody tr th:only-of-type {\n",
       "        vertical-align: middle;\n",
       "    }\n",
       "\n",
       "    .dataframe tbody tr th {\n",
       "        vertical-align: top;\n",
       "    }\n",
       "\n",
       "    .dataframe thead th {\n",
       "        text-align: right;\n",
       "    }\n",
       "</style>\n",
       "<table border=\"1\" class=\"dataframe\">\n",
       "  <thead>\n",
       "    <tr style=\"text-align: right;\">\n",
       "      <th></th>\n",
       "      <th>INSPIREID</th>\n",
       "      <th>COUNTRY</th>\n",
       "      <th>NATLEV</th>\n",
       "      <th>NATLEVNAME</th>\n",
       "      <th>NATCODE</th>\n",
       "      <th>NAMEUNIT</th>\n",
       "      <th>CODNUT1</th>\n",
       "      <th>CODNUT2</th>\n",
       "      <th>CODNUT3</th>\n",
       "      <th>geometry</th>\n",
       "      <th>Codigo Municipio</th>\n",
       "      <th>Densidad</th>\n",
       "      <th>Umbral</th>\n",
       "    </tr>\n",
       "  </thead>\n",
       "  <tbody>\n",
       "    <tr>\n",
       "      <th>0</th>\n",
       "      <td>ES.IGN.BDDAE.34053838046</td>\n",
       "      <td>ES</td>\n",
       "      <td>https://inspire.ec.europa.eu/codelist/Administ...</td>\n",
       "      <td>Municipio</td>\n",
       "      <td>34053838046</td>\n",
       "      <td>Tegueste</td>\n",
       "      <td>ES7</td>\n",
       "      <td>ES70</td>\n",
       "      <td>ES709</td>\n",
       "      <td>POLYGON ((-16.32911 28.50832, -16.32953 28.508...</td>\n",
       "      <td>38046</td>\n",
       "      <td>428.37</td>\n",
       "      <td>Poblado</td>\n",
       "    </tr>\n",
       "    <tr>\n",
       "      <th>1</th>\n",
       "      <td>ES.IGN.BDDAE.34053838047</td>\n",
       "      <td>ES</td>\n",
       "      <td>https://inspire.ec.europa.eu/codelist/Administ...</td>\n",
       "      <td>Municipio</td>\n",
       "      <td>34053838047</td>\n",
       "      <td>Tijarafe</td>\n",
       "      <td>ES7</td>\n",
       "      <td>ES70</td>\n",
       "      <td>ES707</td>\n",
       "      <td>POLYGON ((-17.99258 28.74029, -17.99193 28.741...</td>\n",
       "      <td>38047</td>\n",
       "      <td>47.81</td>\n",
       "      <td>Poblado</td>\n",
       "    </tr>\n",
       "    <tr>\n",
       "      <th>2</th>\n",
       "      <td>ES.IGN.BDDAE.34053838048</td>\n",
       "      <td>ES</td>\n",
       "      <td>https://inspire.ec.europa.eu/codelist/Administ...</td>\n",
       "      <td>Municipio</td>\n",
       "      <td>34053838048</td>\n",
       "      <td>Valverde</td>\n",
       "      <td>ES7</td>\n",
       "      <td>ES70</td>\n",
       "      <td>ES703</td>\n",
       "      <td>MULTIPOLYGON (((-17.95880 27.69777, -17.95880 ...</td>\n",
       "      <td>38048</td>\n",
       "      <td>49.04</td>\n",
       "      <td>Poblado</td>\n",
       "    </tr>\n",
       "    <tr>\n",
       "      <th>3</th>\n",
       "      <td>ES.IGN.BDDAE.34053838049</td>\n",
       "      <td>ES</td>\n",
       "      <td>https://inspire.ec.europa.eu/codelist/Administ...</td>\n",
       "      <td>Municipio</td>\n",
       "      <td>34053838049</td>\n",
       "      <td>Valle Gran Rey</td>\n",
       "      <td>ES7</td>\n",
       "      <td>ES70</td>\n",
       "      <td>ES706</td>\n",
       "      <td>MULTIPOLYGON (((-17.34759 28.11326, -17.34758 ...</td>\n",
       "      <td>38049</td>\n",
       "      <td>144.15</td>\n",
       "      <td>Poblado</td>\n",
       "    </tr>\n",
       "    <tr>\n",
       "      <th>4</th>\n",
       "      <td>ES.IGN.BDDAE.34053838050</td>\n",
       "      <td>ES</td>\n",
       "      <td>https://inspire.ec.europa.eu/codelist/Administ...</td>\n",
       "      <td>Municipio</td>\n",
       "      <td>34053838050</td>\n",
       "      <td>Vallehermoso</td>\n",
       "      <td>ES7</td>\n",
       "      <td>ES70</td>\n",
       "      <td>ES706</td>\n",
       "      <td>MULTIPOLYGON (((-17.32959 28.08038, -17.32958 ...</td>\n",
       "      <td>38050</td>\n",
       "      <td>26.87</td>\n",
       "      <td>Poblado</td>\n",
       "    </tr>\n",
       "  </tbody>\n",
       "</table>\n",
       "</div>"
      ],
      "text/plain": [
       "                  INSPIREID COUNTRY  \\\n",
       "0  ES.IGN.BDDAE.34053838046      ES   \n",
       "1  ES.IGN.BDDAE.34053838047      ES   \n",
       "2  ES.IGN.BDDAE.34053838048      ES   \n",
       "3  ES.IGN.BDDAE.34053838049      ES   \n",
       "4  ES.IGN.BDDAE.34053838050      ES   \n",
       "\n",
       "                                              NATLEV NATLEVNAME      NATCODE  \\\n",
       "0  https://inspire.ec.europa.eu/codelist/Administ...  Municipio  34053838046   \n",
       "1  https://inspire.ec.europa.eu/codelist/Administ...  Municipio  34053838047   \n",
       "2  https://inspire.ec.europa.eu/codelist/Administ...  Municipio  34053838048   \n",
       "3  https://inspire.ec.europa.eu/codelist/Administ...  Municipio  34053838049   \n",
       "4  https://inspire.ec.europa.eu/codelist/Administ...  Municipio  34053838050   \n",
       "\n",
       "         NAMEUNIT CODNUT1 CODNUT2 CODNUT3  \\\n",
       "0        Tegueste     ES7    ES70   ES709   \n",
       "1        Tijarafe     ES7    ES70   ES707   \n",
       "2        Valverde     ES7    ES70   ES703   \n",
       "3  Valle Gran Rey     ES7    ES70   ES706   \n",
       "4    Vallehermoso     ES7    ES70   ES706   \n",
       "\n",
       "                                            geometry Codigo Municipio  \\\n",
       "0  POLYGON ((-16.32911 28.50832, -16.32953 28.508...            38046   \n",
       "1  POLYGON ((-17.99258 28.74029, -17.99193 28.741...            38047   \n",
       "2  MULTIPOLYGON (((-17.95880 27.69777, -17.95880 ...            38048   \n",
       "3  MULTIPOLYGON (((-17.34759 28.11326, -17.34758 ...            38049   \n",
       "4  MULTIPOLYGON (((-17.32959 28.08038, -17.32958 ...            38050   \n",
       "\n",
       "   Densidad   Umbral  \n",
       "0    428.37  Poblado  \n",
       "1     47.81  Poblado  \n",
       "2     49.04  Poblado  \n",
       "3    144.15  Poblado  \n",
       "4     26.87  Poblado  "
      ]
     },
     "execution_count": 5,
     "metadata": {},
     "output_type": "execute_result"
    }
   ],
   "source": [
    "Mapa_Canarias = Mapa.merge(Canarias, on = 'Codigo Municipio')\n",
    "\n",
    "Mapa_Canarias.head()"
   ]
  },
  {
   "cell_type": "code",
   "execution_count": 6,
   "id": "8351a748",
   "metadata": {},
   "outputs": [
    {
     "data": {
      "text/plain": [
       "array(['Poblado', 'Despoblado11'], dtype=object)"
      ]
     },
     "execution_count": 6,
     "metadata": {},
     "output_type": "execute_result"
    }
   ],
   "source": [
    "Mapa_Canarias['Umbral'].unique()"
   ]
  },
  {
   "cell_type": "markdown",
   "id": "be780b7d",
   "metadata": {},
   "source": [
    "Convertimos el DataFrame en un objeto GeoJSON:"
   ]
  },
  {
   "cell_type": "code",
   "execution_count": 7,
   "id": "34369122",
   "metadata": {},
   "outputs": [],
   "source": [
    "Mapa_json = json.loads(Mapa_Canarias.to_json()) #Leemos la data como json\n",
    "Json_data = json.dumps(Mapa_json) #Objeto a string"
   ]
  },
  {
   "cell_type": "code",
   "execution_count": 8,
   "id": "4613541e",
   "metadata": {},
   "outputs": [],
   "source": [
    "G_json = GeoJSONDataSource(geojson = Json_data)"
   ]
  },
  {
   "cell_type": "markdown",
   "id": "b471e874",
   "metadata": {},
   "source": [
    "Asignamos la paleta de colores a cada uno de los factores que vamos a representar: Despoblado11, Despoblado21, Poblado."
   ]
  },
  {
   "cell_type": "code",
   "execution_count": 9,
   "id": "94413571",
   "metadata": {},
   "outputs": [],
   "source": [
    "color_categoria = CategoricalColorMapper(palette=['#FFDAB9', '#CD853F', '#A52A2A'], \n",
    "                                         factors=['Poblado', 'Despoblado11', 'Despoblado21'])"
   ]
  },
  {
   "cell_type": "markdown",
   "id": "6919d6f5",
   "metadata": {},
   "source": [
    "Creamos las etiquetas flotantes con la información que queremos mostrar: nombre del municipio y su densidad"
   ]
  },
  {
   "cell_type": "code",
   "execution_count": 10,
   "id": "2f519f6b",
   "metadata": {},
   "outputs": [],
   "source": [
    "hover = HoverTool(tooltips = [('Municipios','@NAMEUNIT'), ('Densidad', '@Densidad{0.2f}')])"
   ]
  },
  {
   "cell_type": "markdown",
   "id": "da744552",
   "metadata": {},
   "source": [
    "Representamos:"
   ]
  },
  {
   "cell_type": "code",
   "execution_count": 11,
   "id": "19c4f9c7",
   "metadata": {},
   "outputs": [],
   "source": [
    "fig = figure(title = 'Densidad por municipios',\n",
    "          plot_height = 600,\n",
    "          plot_width = 950,\n",
    "          toolbar_location = None,\n",
    "          tools = [hover])\n",
    "             \n",
    "fig.xgrid.grid_line_color = None\n",
    "fig.ygrid.grid_line_color = None\n",
    "fig.title.text_font_size = '20pt'\n",
    "fig.axis.visible = False"
   ]
  },
  {
   "cell_type": "code",
   "execution_count": 12,
   "id": "4cf6b9cc",
   "metadata": {},
   "outputs": [
    {
     "data": {
      "text/plain": [
       "'/home/dsc/Python/Despoblacion/3.Mapa_Densidad/MapaCanarias.html'"
      ]
     },
     "execution_count": 12,
     "metadata": {},
     "output_type": "execute_result"
    }
   ],
   "source": [
    "fig.patches('xs', 'ys', \n",
    "            source = G_json,\n",
    "            fill_color = {'field': 'Umbral', 'transform': color_categoria},\n",
    "            line_color = 'black',\n",
    "            line_width = 0.25)\n",
    "\n",
    "output_file(\"MapaCanarias.html\")\n",
    "save(fig)"
   ]
  },
  {
   "cell_type": "markdown",
   "id": "c24f4e87",
   "metadata": {},
   "source": [
    "También lo guardamos en formato png:"
   ]
  },
  {
   "cell_type": "code",
   "execution_count": 13,
   "id": "ca85bb6f",
   "metadata": {},
   "outputs": [
    {
     "data": {
      "text/plain": [
       "'/home/dsc/Python/Despoblacion/3.Mapa_Densidad/MapaCanarias.png'"
      ]
     },
     "execution_count": 13,
     "metadata": {},
     "output_type": "execute_result"
    }
   ],
   "source": [
    "export_png(fig, filename=\"MapaCanarias.png\")"
   ]
  }
 ],
 "metadata": {
  "kernelspec": {
   "display_name": "Python 3 (ipykernel)",
   "language": "python",
   "name": "python3"
  },
  "language_info": {
   "codemirror_mode": {
    "name": "ipython",
    "version": 3
   },
   "file_extension": ".py",
   "mimetype": "text/x-python",
   "name": "python",
   "nbconvert_exporter": "python",
   "pygments_lexer": "ipython3",
   "version": "3.8.11"
  }
 },
 "nbformat": 4,
 "nbformat_minor": 5
}
